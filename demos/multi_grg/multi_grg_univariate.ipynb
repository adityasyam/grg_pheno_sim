{
 "cells": [
  {
   "cell_type": "code",
   "execution_count": 1,
   "metadata": {},
   "outputs": [],
   "source": [
    "import sys\n",
    "sys.path.append('/Users/adityasyam/grg_pheno_sim') \n",
    "\n",
    "from grg_pheno_sim.multi_grg_phenotype import sim_phenotypes_multi_grg\n",
    "from grg_pheno_sim.model import grg_causal_mutation_model\n"
   ]
  },
  {
   "cell_type": "markdown",
   "metadata": {},
   "source": [
    "The following commands only serve the purpose of converting the VCF zip file into GRGs that will be used for phenotype simulation."
   ]
  },
  {
   "cell_type": "code",
   "execution_count": null,
   "metadata": {},
   "outputs": [],
   "source": [
    "%%script bash --out /dev/null\n",
    "echo \"Test\"\n",
    "grg construct --no-maf-flip -p 10 -t 2 ../data/test-200-samples.vcf.gz --out-file test-200-samples.grg"
   ]
  },
  {
   "cell_type": "code",
   "execution_count": null,
   "metadata": {},
   "outputs": [],
   "source": [
    "%%script bash --out /dev/null\n",
    "echo \"Test\"\n",
    "grg construct --no-maf-flip -p 10 -t 2 ../data/test-200-samples.vcf.gz --out-file test-200-samples_copy.grg"
   ]
  },
  {
   "cell_type": "code",
   "execution_count": null,
   "metadata": {},
   "outputs": [],
   "source": [
    "%%script bash --out /dev/null\n",
    "echo \"Test\"\n",
    "grg construct --no-maf-flip -p 10 -t 2 ../data/test-200-samples.vcf.gz --out-file test-200-samples_last.grg"
   ]
  },
  {
   "cell_type": "code",
   "execution_count": 5,
   "metadata": {},
   "outputs": [],
   "source": [
    "grg_list = [\"test-200-samples.grg\", \"test-200-samples_copy.grg\"]\n",
    "#this is the list of GRG files to be loaded in "
   ]
  },
  {
   "cell_type": "markdown",
   "metadata": {},
   "source": [
    "We will first demonstrate loading all GRG files into RAM and simulating phenotypes. Causal mutations are sampled from each GRG, and the genetic values are obtained for the samples. The combined genetic dataframe is the addition of each GRG's genetic values. Noise is sampled at the end and added to obtain the phenotypes."
   ]
  },
  {
   "cell_type": "markdown",
   "metadata": {},
   "source": [
    "NOTE: It is necessary for each GRG to have the same number of samples."
   ]
  },
  {
   "cell_type": "code",
   "execution_count": null,
   "metadata": {},
   "outputs": [],
   "source": [
    "model_type = \"normal\"\n",
    "mean = 0\n",
    "var = 1\n",
    "\n",
    "model = grg_causal_mutation_model(model_type, mean=mean, var=var)\n",
    "\n",
    "num_causal_per_file = 1000\n",
    "\n",
    "random_seed = 1\n",
    "\n",
    "normalize_genetic_values_before_noise = False\n",
    "\n",
    "noise_heritability = 0.33\n",
    "\n",
    "load_all_into_RAM = True #this parameter decides whether to load all GRGs into RAM together\n",
    "\n",
    "save_effects = True\n",
    "\n",
    "path_list = ['first_sample_effect_sizes.par', 'second_sample_effect_sizes.par']\n",
    "\n",
    "multi_grg_uni_phenotypes = sim_phenotypes_multi_grg(grg_list, model, num_causal_per_file, random_seed, load_all_ram=load_all_into_RAM, normalize_genetic_values_before_noise=normalize_genetic_values_before_noise, noise_heritability=noise_heritability, save_effect_output=save_effects, effect_path_list=path_list)\n"
   ]
  },
  {
   "cell_type": "code",
   "execution_count": null,
   "metadata": {},
   "outputs": [],
   "source": [
    "multi_grg_uni_phenotypes"
   ]
  },
  {
   "cell_type": "markdown",
   "metadata": {},
   "source": [
    "We now perform similar simulations, but by loading the GRGs into RAM sequentially (instead of all together)."
   ]
  },
  {
   "cell_type": "code",
   "execution_count": null,
   "metadata": {},
   "outputs": [],
   "source": [
    "model_type = \"normal\"\n",
    "mean = 0\n",
    "var = 1\n",
    "\n",
    "model = grg_causal_mutation_model(model_type, mean=mean, var=var)\n",
    "\n",
    "num_causal_per_file = 1000\n",
    "\n",
    "random_seed = 1\n",
    "\n",
    "normalize_genetic_values_before_noise = False\n",
    "\n",
    "noise_heritability = 0.33\n",
    "\n",
    "load_all_into_RAM = False #this parameter decides whether to load all GRGs into RAM together\n",
    "\n",
    "save_effects = True\n",
    "\n",
    "path_list = ['first_seq_sample_effect_sizes.par', 'second_seq_sample_effect_sizes.par']\n",
    "\n",
    "multi_grg_uni_seq_phenotypes = sim_phenotypes_multi_grg(grg_list, model, num_causal_per_file, random_seed, load_all_ram=load_all_into_RAM, normalize_genetic_values_before_noise=normalize_genetic_values_before_noise, noise_heritability=noise_heritability, save_effect_output=save_effects, effect_path_list=path_list)"
   ]
  },
  {
   "cell_type": "code",
   "execution_count": null,
   "metadata": {},
   "outputs": [],
   "source": [
    "multi_grg_uni_seq_phenotypes"
   ]
  },
  {
   "cell_type": "markdown",
   "metadata": {},
   "source": [
    "Now, we demonstrate a case with binary phenotypes."
   ]
  },
  {
   "cell_type": "code",
   "execution_count": null,
   "metadata": {},
   "outputs": [],
   "source": [
    "model_type = \"normal\"\n",
    "mean = 0\n",
    "var = 1\n",
    "\n",
    "model = grg_causal_mutation_model(model_type, mean=mean, var=var)\n",
    "\n",
    "num_causal_per_file = 1000\n",
    "\n",
    "random_seed = 1\n",
    "\n",
    "normalize_genetic_values_before_noise = False\n",
    "\n",
    "binary=True\n",
    "\n",
    "population_prevalence = 0.2\n",
    "\n",
    "noise_heritability = 0.33\n",
    "\n",
    "load_all_into_RAM = True #this parameter decides whether to load all GRGs into RAM together\n",
    "\n",
    "save_effects = True\n",
    "\n",
    "path_list = ['first_seq_sample_effect_sizes.par', 'second_seq_sample_effect_sizes.par']\n",
    "\n",
    "multi_grg_uni_bin_phenotypes = sim_phenotypes_multi_grg(grg_list, model, num_causal_per_file, random_seed, load_all_ram=load_all_into_RAM, binary=binary, population_prevalence=population_prevalence, normalize_genetic_values_before_noise=normalize_genetic_values_before_noise, noise_heritability=noise_heritability, save_effect_output=save_effects, effect_path_list=path_list)"
   ]
  },
  {
   "cell_type": "code",
   "execution_count": null,
   "metadata": {},
   "outputs": [],
   "source": [
    "multi_grg_uni_bin_phenotypes"
   ]
  },
  {
   "cell_type": "code",
   "execution_count": null,
   "metadata": {},
   "outputs": [],
   "source": [
    "binary_list = multi_grg_uni_bin_phenotypes[\"phenotype\"]\n",
    "num_zeros = (binary_list == 0).sum()\n",
    "num_ones = (binary_list == 1).sum()\n",
    "\n",
    "print(\"Number of 0s:\", num_zeros)\n",
    "print(\"Number of 1s:\", num_ones)\n",
    "print(\"Population prevalence ratio observed: \", str(num_ones/(num_ones+num_zeros)))\n"
   ]
  },
  {
   "cell_type": "markdown",
   "metadata": {},
   "source": [
    "Finally, we demonstrate a case with more than 2 GRGs. "
   ]
  },
  {
   "cell_type": "code",
   "execution_count": 13,
   "metadata": {},
   "outputs": [],
   "source": [
    "new_grg_list = [\"test-200-samples.grg\", \"test-200-samples_copy.grg\", \"test-200-samples_last.grg\"]\n"
   ]
  },
  {
   "cell_type": "code",
   "execution_count": null,
   "metadata": {},
   "outputs": [],
   "source": [
    "model_type = \"normal\"\n",
    "mean = 0\n",
    "var = 1\n",
    "\n",
    "model = grg_causal_mutation_model(model_type, mean=mean, var=var)\n",
    "\n",
    "num_causal_per_file = 1000\n",
    "\n",
    "random_seed = 1\n",
    "\n",
    "normalize_genetic_values_before_noise = False\n",
    "\n",
    "noise_heritability = 0.33\n",
    "\n",
    "load_all_into_RAM = True #this parameter decides whether to load all GRGs into RAM together\n",
    "\n",
    "multi_grg_uni_phenotypes_three = sim_phenotypes_multi_grg(new_grg_list, model, num_causal_per_file, random_seed, load_all_ram=load_all_into_RAM, normalize_genetic_values_before_noise=normalize_genetic_values_before_noise, noise_heritability=noise_heritability)\n"
   ]
  },
  {
   "cell_type": "code",
   "execution_count": null,
   "metadata": {},
   "outputs": [],
   "source": [
    "multi_grg_uni_phenotypes_three"
   ]
  }
 ],
 "metadata": {
  "kernelspec": {
   "display_name": "weilab",
   "language": "python",
   "name": "python3"
  },
  "language_info": {
   "codemirror_mode": {
    "name": "ipython",
    "version": 3
   },
   "file_extension": ".py",
   "mimetype": "text/x-python",
   "name": "python",
   "nbconvert_exporter": "python",
   "pygments_lexer": "ipython3",
   "version": "3.10.14"
  }
 },
 "nbformat": 4,
 "nbformat_minor": 2
}
