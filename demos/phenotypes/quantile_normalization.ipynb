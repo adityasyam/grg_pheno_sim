{
 "cells": [
  {
   "cell_type": "code",
   "execution_count": 1,
   "metadata": {},
   "outputs": [],
   "source": [
    "import numpy as np\n",
    "import pygrgl\n",
    "import matplotlib.pyplot as plt\n",
    "\n",
    "import sys\n",
    "sys.path.append('/Users/adityasyam/grg_pheno_sim') \n",
    "\n",
    "from grg_pheno_sim.effect_size import sim_grg_causal_mutation, additive_effect_sizes, samples_to_individuals\n",
    "from grg_pheno_sim.model import grg_causal_mutation_model\n",
    "from grg_pheno_sim.noise_sim import sim_env_noise\n",
    "from grg_pheno_sim.normalization import quantile_normalize\n",
    "\n"
   ]
  },
  {
   "cell_type": "markdown",
   "metadata": {},
   "source": [
    "The following command only serves the purpose of converting the VCF zip file into a GRG that will be used for the phenotype simulation."
   ]
  },
  {
   "cell_type": "code",
   "execution_count": null,
   "metadata": {},
   "outputs": [],
   "source": [
    "%%script bash --out /dev/null\n",
    "echo \"Test\"\n",
    "grg construct --no-maf-flip -p 10 -t 2 ../data/test-200-samples.vcf.gz --out-file test-200-samples.grg"
   ]
  },
  {
   "cell_type": "code",
   "execution_count": 3,
   "metadata": {},
   "outputs": [],
   "source": [
    "grg_1 = pygrgl.load_immutable_grg(\"test-200-samples.grg\") #loading in a sample grg stored in the same directory\n"
   ]
  },
  {
   "cell_type": "markdown",
   "metadata": {},
   "source": [
    "First, we demonstrate quantile normalization for single causal mutation's phenotypic dataframe."
   ]
  },
  {
   "cell_type": "code",
   "execution_count": 4,
   "metadata": {},
   "outputs": [],
   "source": [
    "mean_1 = 0.0  \n",
    "var_1 = 1.0  \n",
    "model_normal = grg_causal_mutation_model(\"normal\", mean=mean_1, var=var_1)"
   ]
  },
  {
   "cell_type": "code",
   "execution_count": null,
   "metadata": {},
   "outputs": [],
   "source": [
    "\n",
    "trait_df_normal = sim_grg_causal_mutation(grg_1, num_causal=1000, model=model_normal, random_seed=1)\n",
    "sample_nodes_df = additive_effect_sizes(grg_1, trait_df_normal)\n",
    "individual_genetic_value_df = samples_to_individuals(sample_nodes_df) #non-normalized genetic value df\n",
    "phenotypes = sim_env_noise(individual_genetic_value_df, h2=0.5) #simulating environmental noise without normalizing genetic values\n",
    "phenotype_df = phenotypes.phenotype_df\n",
    "phenotype_df_1 = phenotype_df.copy()\n",
    "phenotype_df_2 = phenotype_df.copy()\n",
    "phenotype_df\n"
   ]
  },
  {
   "cell_type": "code",
   "execution_count": null,
   "metadata": {},
   "outputs": [],
   "source": [
    "quantile_normalize_phenotype_df = quantile_normalize(phenotype_df) #quantile normalized to the normal distribution\n",
    "quantile_normalize_phenotype_df"
   ]
  },
  {
   "cell_type": "code",
   "execution_count": null,
   "metadata": {},
   "outputs": [],
   "source": [
    "plt.hist(quantile_normalize_phenotype_df[\"normalized_phenotype\"], bins=60)\n",
    "plt.title(\"Normalized Phenotypes\")\n",
    "plt.show()\n",
    "print(\"Mean of phenotypes: \" + str(quantile_normalize_phenotype_df['normalized_phenotype'].mean()))\n",
    "print(\"Standard deviation of phenotypes: \" + str(quantile_normalize_phenotype_df['normalized_phenotype'].std()))"
   ]
  },
  {
   "cell_type": "code",
   "execution_count": null,
   "metadata": {},
   "outputs": [],
   "source": [
    "quantile_normal_genetic_df = quantile_normalize(phenotype_df_1, phenotype_normalize=False)\n",
    "quantile_normal_genetic_df"
   ]
  },
  {
   "cell_type": "code",
   "execution_count": null,
   "metadata": {},
   "outputs": [],
   "source": [
    "quantile_both_normalized = quantile_normalize(phenotype_df_2, normalize_both=True)\n",
    "quantile_both_normalized"
   ]
  },
  {
   "cell_type": "markdown",
   "metadata": {},
   "source": [
    "Now, we show the same for multivariate simulation."
   ]
  },
  {
   "cell_type": "code",
   "execution_count": 10,
   "metadata": {},
   "outputs": [],
   "source": [
    "mean_1 = np.zeros(2)\n",
    "cov_1 = np.eye(2) \n",
    "model_normal_multi = grg_causal_mutation_model(\"multivariate normal\", mean=mean_1, cov=cov_1)\n",
    "\n"
   ]
  },
  {
   "cell_type": "code",
   "execution_count": null,
   "metadata": {},
   "outputs": [],
   "source": [
    "trait_df_normal_multi = sim_grg_causal_mutation(grg_1, num_causal=1000, model=model_normal_multi, random_seed=1)\n",
    "sample_nodes_df_multi = additive_effect_sizes(grg_1, trait_df_normal_multi)\n",
    "individuals = samples_to_individuals(sample_nodes_df_multi)\n",
    "phenotypes_user_defined_multi_normal = sim_env_noise(individuals, user_defined=True, means=mean_1, cov=cov_1) #simulates noise from the multivariate standard normal distribution with means of zero and an identity matrix for covariance\n",
    "phenotypes_user_defined_multi_normal_df = phenotypes_user_defined_multi_normal.phenotype_df\n",
    "phenotypes_user_defined_multi_normal_df_1 = phenotypes_user_defined_multi_normal_df.copy()\n",
    "phenotypes_user_defined_multi_normal_df_2 = phenotypes_user_defined_multi_normal_df.copy()\n",
    "phenotypes_user_defined_multi_normal_df"
   ]
  },
  {
   "cell_type": "code",
   "execution_count": null,
   "metadata": {},
   "outputs": [],
   "source": [
    "quantile_normalized_multi_pheno = quantile_normalize(phenotypes_user_defined_multi_normal_df)\n",
    "quantile_normalized_multi_pheno"
   ]
  },
  {
   "cell_type": "code",
   "execution_count": null,
   "metadata": {},
   "outputs": [],
   "source": [
    "df_dict_test = {k: v.sort_values('individual_id') for k, v in quantile_normalized_multi_pheno.groupby('causal_mutation_id')}\n",
    "\n",
    "num = len(df_dict_test)\n",
    "\n",
    "for i in range(num):\n",
    "  temp_df = df_dict_test[i]\n",
    "  plt.hist(temp_df[\"normalized_phenotype\"], bins=60)\n",
    "  plt.title(\"Normalized Phenotypes\")\n",
    "  plt.show()\n",
    "  print(\"Mean of phenotypes: \" + str(temp_df['normalized_phenotype'].mean()))\n",
    "  print(\"Standard deviation of phenotypes: \" + str(temp_df['normalized_phenotype'].std()))"
   ]
  },
  {
   "cell_type": "code",
   "execution_count": null,
   "metadata": {},
   "outputs": [],
   "source": [
    "quantile_normalized_multi_genetic = quantile_normalize(phenotypes_user_defined_multi_normal_df_1, phenotype_normalize=False)\n",
    "quantile_normalized_multi_genetic"
   ]
  },
  {
   "cell_type": "code",
   "execution_count": null,
   "metadata": {},
   "outputs": [],
   "source": [
    "quantile_normalized_multi_both = quantile_normalize(phenotypes_user_defined_multi_normal_df_2, normalize_both=False)\n",
    "quantile_normalized_multi_both"
   ]
  }
 ],
 "metadata": {
  "kernelspec": {
   "display_name": "weilab",
   "language": "python",
   "name": "python3"
  },
  "language_info": {
   "codemirror_mode": {
    "name": "ipython",
    "version": 3
   },
   "file_extension": ".py",
   "mimetype": "text/x-python",
   "name": "python",
   "nbconvert_exporter": "python",
   "pygments_lexer": "ipython3",
   "version": "3.10.14"
  }
 },
 "nbformat": 4,
 "nbformat_minor": 2
}
