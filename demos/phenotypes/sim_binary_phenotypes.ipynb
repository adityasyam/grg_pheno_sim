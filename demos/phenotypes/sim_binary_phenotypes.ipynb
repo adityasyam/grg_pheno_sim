{
 "cells": [
  {
   "cell_type": "code",
   "execution_count": 1,
   "metadata": {},
   "outputs": [],
   "source": [
    "import pygrgl\n",
    "import random\n",
    "\n",
    "import sys\n",
    "sys.path.append('/Users/adityasyam/grg_pheno_sim') \n",
    "\n",
    "from grg_pheno_sim.model import grg_causal_mutation_model\n",
    "from grg_pheno_sim.binary_phenotype import sim_binary_phenotypes, sim_binary_phenotypes_custom\n"
   ]
  },
  {
   "cell_type": "markdown",
   "metadata": {},
   "source": [
    "The following command only serves the purpose of converting the VCF zip file into a GRG that will be used for the phenotype simulation."
   ]
  },
  {
   "cell_type": "code",
   "execution_count": null,
   "metadata": {},
   "outputs": [],
   "source": [
    "%%script bash --out /dev/null\n",
    "echo \"Test\"\n",
    "grg construct --no-maf-flip -p 10 -t 2 ../data/test-200-samples.vcf.gz --out-file test-200-samples.grg"
   ]
  },
  {
   "cell_type": "code",
   "execution_count": null,
   "metadata": {},
   "outputs": [],
   "source": [
    "grg_1 = pygrgl.load_immutable_grg(\"test-200-samples.grg\") #loading in a sample grg stored in the same directory\n",
    "\n",
    "model_type = \"normal\"\n",
    "mean = 0\n",
    "var = 1\n",
    "\n",
    "model = grg_causal_mutation_model(model_type, mean=mean, var=var)\n",
    "\n",
    "num_causal = 1000\n",
    "\n",
    "random_seed = 1\n",
    "\n",
    "normalize_genetic_values_before_noise = True\n",
    "\n",
    "noise_heritability = 0.33\n",
    "\n",
    "population_prevalence = 0.1 #this means 1 in 10 individuals are a case\n",
    "\n",
    "effect_output_required = True #saves the effect sizes data for each mutation node in a .par file\n",
    "\n",
    "effect_path = 'univariate_sample_effect_sizes.par'\n",
    "\n",
    "standardized_output = True\n",
    "\n",
    "output_path = 'normal_pheno_binary.phen' #define the path to be saved at, this output is saved in the file of this name in the same directory\n",
    "\n",
    "header=True #set header parameter to true if column names are expected in output file\n",
    "\n",
    "phenotypes_binary = sim_binary_phenotypes(grg_1, model, num_causal, population_prevalence, random_seed, normalize_genetic_values_before_noise=normalize_genetic_values_before_noise, noise_heritability=noise_heritability, save_effect_output=effect_output_required, effect_path=effect_path, standardized_output=standardized_output, path=output_path, header=header)\n"
   ]
  },
  {
   "cell_type": "code",
   "execution_count": null,
   "metadata": {},
   "outputs": [],
   "source": [
    "phenotypes_binary"
   ]
  },
  {
   "cell_type": "code",
   "execution_count": null,
   "metadata": {},
   "outputs": [],
   "source": [
    "binary_list = phenotypes_binary[\"phenotype\"]\n",
    "num_zeros = (binary_list == 0).sum()\n",
    "num_ones = (binary_list == 1).sum()\n",
    "\n",
    "print(\"Number of 0s:\", num_zeros)\n",
    "print(\"Number of 1s:\", num_ones)\n",
    "print(\"Population prevalence ratio observed: \", str(num_ones/(num_ones+num_zeros)))\n"
   ]
  },
  {
   "cell_type": "markdown",
   "metadata": {},
   "source": [
    "The observed population prevalence above indicates that our final phenotypes approximately reflect the expected prevalence of 0.1."
   ]
  },
  {
   "cell_type": "markdown",
   "metadata": {},
   "source": [
    "We now demonstrate the use case for a higher population prevalence."
   ]
  },
  {
   "cell_type": "code",
   "execution_count": null,
   "metadata": {},
   "outputs": [],
   "source": [
    "grg_1 = pygrgl.load_immutable_grg(\"test-200-samples.grg\") #loading in a sample grg stored in the same directory\n",
    "\n",
    "model_type = \"normal\"\n",
    "mean = 0\n",
    "var = 1\n",
    "\n",
    "model = grg_causal_mutation_model(model_type, mean=mean, var=var)\n",
    "\n",
    "num_causal = 1000\n",
    "\n",
    "random_seed = 1\n",
    "\n",
    "normalize_genetic_values_before_noise = True\n",
    "\n",
    "noise_heritability = 0.33\n",
    "\n",
    "population_prevalence_high = 0.5 #this means 1 in 2 individuals are a case\n",
    "\n",
    "effect_output_required = True #saves the effect sizes data for each mutation node in a .par file\n",
    "\n",
    "effect_path = 'univariate_sample_effect_sizes.par'\n",
    "\n",
    "standardized_output = True\n",
    "\n",
    "output_path = 'normal_pheno_binary_high_prevalence.phen' #define the path to be saved at, this output is saved in the file of this name in the same directory\n",
    "\n",
    "header=True #set header parameter to true if column names are expected in output file\n",
    "\n",
    "phenotypes_binary_high_prev = sim_binary_phenotypes(grg_1, model, num_causal, population_prevalence_high, random_seed, normalize_genetic_values_before_noise=normalize_genetic_values_before_noise, noise_heritability=noise_heritability, save_effect_output=effect_output_required, effect_path=effect_path, standardized_output=standardized_output, path=output_path, header=header)\n"
   ]
  },
  {
   "cell_type": "code",
   "execution_count": null,
   "metadata": {},
   "outputs": [],
   "source": [
    "phenotypes_binary_high_prev"
   ]
  },
  {
   "cell_type": "code",
   "execution_count": null,
   "metadata": {},
   "outputs": [],
   "source": [
    "binary_list_high_prev = phenotypes_binary_high_prev[\"phenotype\"]\n",
    "num_zeros = (binary_list_high_prev == 0).sum()\n",
    "num_ones = (binary_list_high_prev == 1).sum()\n",
    "\n",
    "print(\"Number of 0s:\", num_zeros)\n",
    "print(\"Number of 1s:\", num_ones)\n",
    "print(\"Population prevalence ratio observed: \", str(num_ones/(num_ones+num_zeros)))\n"
   ]
  },
  {
   "cell_type": "markdown",
   "metadata": {},
   "source": [
    "Finally, we use custom effect sizes to compute the binary phenotypes."
   ]
  },
  {
   "cell_type": "code",
   "execution_count": 9,
   "metadata": {},
   "outputs": [],
   "source": [
    "random_effects = [random.random() for _ in range(grg_1.num_mutations)] #list input\n"
   ]
  },
  {
   "cell_type": "code",
   "execution_count": null,
   "metadata": {},
   "outputs": [],
   "source": [
    "normalize_genetic_values_before_noise = True\n",
    "\n",
    "noise_heritability = 0.33\n",
    "\n",
    "population_prevalence_custom = 0.25\n",
    "\n",
    "standardized_output = True\n",
    "\n",
    "output_path = 'custom_pheno_binary.phen' #define the path to be saved at, this output is saved in the file of this name in the same directory\n",
    "\n",
    "phenotypes_list_binary = sim_binary_phenotypes_custom(grg_1, random_effects, population_prevalence_custom, normalize_genetic_values_before_noise=normalize_genetic_values_before_noise, noise_heritability=noise_heritability, standardized_output=standardized_output, path=output_path)"
   ]
  },
  {
   "cell_type": "code",
   "execution_count": null,
   "metadata": {},
   "outputs": [],
   "source": [
    "phenotypes_list_binary"
   ]
  },
  {
   "cell_type": "code",
   "execution_count": null,
   "metadata": {},
   "outputs": [],
   "source": [
    "binary_list_custom = phenotypes_list_binary[\"phenotype\"]\n",
    "num_zeros = (binary_list_custom == 0).sum()\n",
    "num_ones = (binary_list_custom == 1).sum()\n",
    "\n",
    "print(\"Number of 0s:\", num_zeros)\n",
    "print(\"Number of 1s:\", num_ones)\n",
    "print(\"Population prevalence ratio observed: \", str(num_ones/(num_ones+num_zeros)))\n"
   ]
  }
 ],
 "metadata": {
  "kernelspec": {
   "display_name": "weilab",
   "language": "python",
   "name": "python3"
  },
  "language_info": {
   "codemirror_mode": {
    "name": "ipython",
    "version": 3
   },
   "file_extension": ".py",
   "mimetype": "text/x-python",
   "name": "python",
   "nbconvert_exporter": "python",
   "pygments_lexer": "ipython3",
   "version": "3.10.14"
  }
 },
 "nbformat": 4,
 "nbformat_minor": 2
}
