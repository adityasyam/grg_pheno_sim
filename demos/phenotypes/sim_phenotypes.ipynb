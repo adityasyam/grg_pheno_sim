{
 "cells": [
  {
   "cell_type": "code",
   "execution_count": 1,
   "metadata": {},
   "outputs": [],
   "source": [
    "import numpy as np\n",
    "import pygrgl\n",
    "import matplotlib.pyplot as plt \n",
    "\n",
    "from grg_pheno_sim.phenotype import sim_phenotypes\n",
    "from grg_pheno_sim.model import grg_causal_mutation_model\n"
   ]
  },
  {
   "cell_type": "markdown",
   "metadata": {},
   "source": [
    "The following command only serves the purpose of converting the VCF zip file into a GRG that will be used for the phenotype simulation."
   ]
  },
  {
   "cell_type": "code",
   "execution_count": null,
   "metadata": {},
   "outputs": [
    {
     "name": "stderr",
     "output_type": "stream",
     "text": [
      "Construction took 38 ms\n",
      "Wrote GRG to test-200-samples.vcf.gz.part0.tree0.grg in 0 ms\n",
      "Construction took 51 ms\n",
      "Wrote GRG to test-200-samples.vcf.gz.part0.tree1.grg in 0 ms\n",
      "Construction took 0 ms\n",
      "Mapping mutations took221 ms\n",
      "Wrote GRG to test-200-samples.vcf.gz.part0.grg in 2 ms\n",
      "Construction took 45 ms\n",
      "Wrote GRG to test-200-samples.vcf.gz.part1.tree0.grg in 0 ms\n",
      "Construction took 47 ms\n",
      "Wrote GRG to test-200-samples.vcf.gz.part1.tree1.grg in 0 ms\n",
      "Construction took 0 ms\n",
      "Mapping mutations took275 ms\n",
      "Wrote GRG to test-200-samples.vcf.gz.part1.grg in 1 ms\n",
      "Construction took 50 ms\n",
      "Wrote GRG to test-200-samples.vcf.gz.part2.tree0.grg in 0 ms\n",
      "Construction took 47 ms\n",
      "Wrote GRG to test-200-samples.vcf.gz.part2.tree1.grg in 0 ms\n",
      "Construction took 0 ms\n",
      "Mapping mutations took352 ms\n",
      "Wrote GRG to test-200-samples.vcf.gz.part2.grg in 1 ms\n",
      "Construction took 57 ms\n",
      "Wrote GRG to test-200-samples.vcf.gz.part3.tree0.grg in 0 ms\n",
      "Construction took 51 ms\n",
      "Wrote GRG to test-200-samples.vcf.gz.part3.tree1.grg in 0 ms\n",
      "Construction took 0 ms\n",
      "Mapping mutations took364 ms\n",
      "Wrote GRG to test-200-samples.vcf.gz.part3.grg in 1 ms\n",
      "Construction took 54 ms\n",
      "Wrote GRG to test-200-samples.vcf.gz.part4.tree0.grg in 0 ms\n",
      "Construction took 52 ms\n",
      "Wrote GRG to test-200-samples.vcf.gz.part4.tree1.grg in 0 ms\n",
      "Construction took 0 ms\n",
      "Mapping mutations took389 ms\n",
      "Wrote GRG to test-200-samples.vcf.gz.part4.grg in 2 ms\n",
      "Construction took 51 ms\n",
      "Wrote GRG to test-200-samples.vcf.gz.part5.tree0.grg in 0 ms\n",
      "Construction took 54 ms\n",
      "Wrote GRG to test-200-samples.vcf.gz.part5.tree1.grg in 0 ms\n",
      "Construction took 0 ms\n",
      "Mapping mutations took402 ms\n",
      "Wrote GRG to test-200-samples.vcf.gz.part5.grg in 1 ms\n",
      "Construction took 51 ms\n",
      "Wrote GRG to test-200-samples.vcf.gz.part6.tree0.grg in 0 ms\n",
      "Construction took 40 ms\n",
      "Wrote GRG to test-200-samples.vcf.gz.part6.tree1.grg in 0 ms\n",
      "Construction took 0 ms\n",
      "Mapping mutations took271 ms\n",
      "Wrote GRG to test-200-samples.vcf.gz.part6.grg in 1 ms\n",
      "Construction took 47 ms\n",
      "Wrote GRG to test-200-samples.vcf.gz.part7.tree0.grg in 0 ms\n",
      "Construction took 51 ms\n",
      "Wrote GRG to test-200-samples.vcf.gz.part7.tree1.grg in 0 ms\n",
      "Construction took 0 ms\n",
      "Mapping mutations took402 ms\n",
      "Wrote GRG to test-200-samples.vcf.gz.part7.grg in 2 ms\n",
      "Construction took 43 ms\n",
      "Wrote GRG to test-200-samples.vcf.gz.part8.tree0.grg in 0 ms\n",
      "Construction took 40 ms\n",
      "Wrote GRG to test-200-samples.vcf.gz.part8.tree1.grg in 0 ms\n",
      "Construction took 0 ms\n",
      "Mapping mutations took289 ms\n",
      "Wrote GRG to test-200-samples.vcf.gz.part8.grg in 0 ms\n",
      "Construction took 54 ms\n",
      "Wrote GRG to test-200-samples.vcf.gz.part9.tree0.grg in 0 ms\n",
      "Construction took 47 ms\n",
      "Wrote GRG to test-200-samples.vcf.gz.part9.tree1.grg in 0 ms\n",
      "Construction took 0 ms\n",
      "Mapping mutations took428 ms\n",
      "Wrote GRG to test-200-samples.vcf.gz.part9.grg in 2 ms\n"
     ]
    },
    {
     "ename": "",
     "evalue": "",
     "output_type": "error",
     "traceback": [
      "\u001b[1;31mnotebook controller is DISPOSED. \n",
      "\u001b[1;31mView Jupyter <a href='command:jupyter.viewOutput'>log</a> for further details."
     ]
    },
    {
     "ename": "",
     "evalue": "",
     "output_type": "error",
     "traceback": [
      "\u001b[1;31mnotebook controller is DISPOSED. \n",
      "\u001b[1;31mView Jupyter <a href='command:jupyter.viewOutput'>log</a> for further details."
     ]
    }
   ],
   "source": [
    "%%script bash --out /dev/null\n",
    "grg construct -p 10 -t 2 ../data/test-200-samples.vcf.gz --out-file test-200-samples.grg\n"
   ]
  },
  {
   "cell_type": "markdown",
   "metadata": {},
   "source": [
    "This notebook contains demos where we combine all the stages of the phenotype simulator together to obtain final phenotypes in one go. The first demo uses the normal model for univariate simulation."
   ]
  },
  {
   "cell_type": "code",
   "execution_count": null,
   "metadata": {},
   "outputs": [
    {
     "name": "stdout",
     "output_type": "stream",
     "text": [
      "The initial effect sizes are \n",
      "     mutation_id  effect_size  causal_mutation_id\n",
      "0             20    -1.810258                   0\n",
      "1             28     1.151768                   0\n",
      "2             62     1.681257                   0\n",
      "3             76     2.346698                   0\n",
      "4            119    -0.286668                   0\n",
      "..           ...          ...                 ...\n",
      "995        10862    -0.221163                   0\n",
      "996        10874    -1.136983                   0\n",
      "997        10879    -0.966133                   0\n",
      "998        10883    -1.402602                   0\n",
      "999        10889    -0.483777                   0\n",
      "\n",
      "[1000 rows x 3 columns]\n",
      "The genetic values of the individuals are \n",
      "     individual_id  genetic_value  causal_mutation_id\n",
      "0                0     -16.501664                   0\n",
      "1                1      -2.454348                   0\n",
      "2                2     -17.303803                   0\n",
      "3                3       6.641214                   0\n",
      "4                4      -8.710213                   0\n",
      "..             ...            ...                 ...\n",
      "195            195      12.536488                   0\n",
      "196            196      16.549154                   0\n",
      "197            197       5.463626                   0\n",
      "198            198      -0.663779                   0\n",
      "199            199     -32.160847                   0\n",
      "\n",
      "[200 rows x 3 columns]\n"
     ]
    },
    {
     "ename": "",
     "evalue": "",
     "output_type": "error",
     "traceback": [
      "\u001b[1;31mnotebook controller is DISPOSED. \n",
      "\u001b[1;31mView Jupyter <a href='command:jupyter.viewOutput'>log</a> for further details."
     ]
    },
    {
     "ename": "",
     "evalue": "",
     "output_type": "error",
     "traceback": [
      "\u001b[1;31mnotebook controller is DISPOSED. \n",
      "\u001b[1;31mView Jupyter <a href='command:jupyter.viewOutput'>log</a> for further details."
     ]
    }
   ],
   "source": [
    "grg_1 = pygrgl.load_immutable_grg(\"test-200-samples.grg\") #loading in a sample grg stored in the same directory\n",
    "\n",
    "model_type = \"normal\"\n",
    "mean = 0\n",
    "var = 1\n",
    "\n",
    "model = grg_causal_mutation_model(model_type, mean=mean, var=var)\n",
    "\n",
    "num_causal = 1000\n",
    "\n",
    "random_seed = 1\n",
    "\n",
    "normalize_genetic_values_before_noise = True\n",
    "\n",
    "noise_heritability = 0.33\n",
    "\n",
    "effect_output_required = True #saves the effect sizes data for each mutation node in a .par file\n",
    "\n",
    "effect_path = 'univariate_sample_effect_sizes.par'\n",
    "\n",
    "standardized_output = True\n",
    "\n",
    "output_path = 'normal_pheno.phen' #define the path to be saved at, this output is saved in the file of this name in the same directory\n",
    "\n",
    "header=True #set header parameter to true if column names are expected in output file\n",
    "\n",
    "phenotypes = sim_phenotypes(grg_1, model, num_causal, random_seed, normalize_genetic_values_before_noise=normalize_genetic_values_before_noise, noise_heritability=noise_heritability, save_effect_output=effect_output_required, effect_path=effect_path, standardized_output=standardized_output, path=output_path, header=header)\n"
   ]
  },
  {
   "cell_type": "code",
   "execution_count": null,
   "metadata": {},
   "outputs": [
    {
     "data": {
      "text/html": [
       "<div>\n",
       "<style scoped>\n",
       "    .dataframe tbody tr th:only-of-type {\n",
       "        vertical-align: middle;\n",
       "    }\n",
       "\n",
       "    .dataframe tbody tr th {\n",
       "        vertical-align: top;\n",
       "    }\n",
       "\n",
       "    .dataframe thead th {\n",
       "        text-align: right;\n",
       "    }\n",
       "</style>\n",
       "<table border=\"1\" class=\"dataframe\">\n",
       "  <thead>\n",
       "    <tr style=\"text-align: right;\">\n",
       "      <th></th>\n",
       "      <th>causal_mutation_id</th>\n",
       "      <th>individual_id</th>\n",
       "      <th>genetic_value</th>\n",
       "      <th>environmental_noise</th>\n",
       "      <th>phenotype</th>\n",
       "    </tr>\n",
       "  </thead>\n",
       "  <tbody>\n",
       "    <tr>\n",
       "      <th>0</th>\n",
       "      <td>0</td>\n",
       "      <td>0</td>\n",
       "      <td>-0.223138</td>\n",
       "      <td>-0.720616</td>\n",
       "      <td>-0.943754</td>\n",
       "    </tr>\n",
       "    <tr>\n",
       "      <th>1</th>\n",
       "      <td>0</td>\n",
       "      <td>1</td>\n",
       "      <td>0.407805</td>\n",
       "      <td>-0.417941</td>\n",
       "      <td>-0.010136</td>\n",
       "    </tr>\n",
       "    <tr>\n",
       "      <th>2</th>\n",
       "      <td>0</td>\n",
       "      <td>2</td>\n",
       "      <td>-0.259166</td>\n",
       "      <td>0.972284</td>\n",
       "      <td>0.713118</td>\n",
       "    </tr>\n",
       "    <tr>\n",
       "      <th>3</th>\n",
       "      <td>0</td>\n",
       "      <td>3</td>\n",
       "      <td>0.816337</td>\n",
       "      <td>1.453996</td>\n",
       "      <td>2.270333</td>\n",
       "    </tr>\n",
       "    <tr>\n",
       "      <th>4</th>\n",
       "      <td>0</td>\n",
       "      <td>4</td>\n",
       "      <td>0.126819</td>\n",
       "      <td>-0.057320</td>\n",
       "      <td>0.069500</td>\n",
       "    </tr>\n",
       "    <tr>\n",
       "      <th>...</th>\n",
       "      <td>...</td>\n",
       "      <td>...</td>\n",
       "      <td>...</td>\n",
       "      <td>...</td>\n",
       "      <td>...</td>\n",
       "    </tr>\n",
       "    <tr>\n",
       "      <th>195</th>\n",
       "      <td>0</td>\n",
       "      <td>195</td>\n",
       "      <td>1.081126</td>\n",
       "      <td>0.524275</td>\n",
       "      <td>1.605400</td>\n",
       "    </tr>\n",
       "    <tr>\n",
       "      <th>196</th>\n",
       "      <td>0</td>\n",
       "      <td>196</td>\n",
       "      <td>1.261357</td>\n",
       "      <td>-0.671490</td>\n",
       "      <td>0.589867</td>\n",
       "    </tr>\n",
       "    <tr>\n",
       "      <th>197</th>\n",
       "      <td>0</td>\n",
       "      <td>197</td>\n",
       "      <td>0.763445</td>\n",
       "      <td>0.121132</td>\n",
       "      <td>0.884576</td>\n",
       "    </tr>\n",
       "    <tr>\n",
       "      <th>198</th>\n",
       "      <td>0</td>\n",
       "      <td>198</td>\n",
       "      <td>0.488229</td>\n",
       "      <td>-0.924735</td>\n",
       "      <td>-0.436506</td>\n",
       "    </tr>\n",
       "    <tr>\n",
       "      <th>199</th>\n",
       "      <td>0</td>\n",
       "      <td>199</td>\n",
       "      <td>-0.926478</td>\n",
       "      <td>-0.115607</td>\n",
       "      <td>-1.042085</td>\n",
       "    </tr>\n",
       "  </tbody>\n",
       "</table>\n",
       "<p>200 rows × 5 columns</p>\n",
       "</div>"
      ],
      "text/plain": [
       "     causal_mutation_id  individual_id  genetic_value  environmental_noise  \\\n",
       "0                     0              0      -0.223138            -0.720616   \n",
       "1                     0              1       0.407805            -0.417941   \n",
       "2                     0              2      -0.259166             0.972284   \n",
       "3                     0              3       0.816337             1.453996   \n",
       "4                     0              4       0.126819            -0.057320   \n",
       "..                  ...            ...            ...                  ...   \n",
       "195                   0            195       1.081126             0.524275   \n",
       "196                   0            196       1.261357            -0.671490   \n",
       "197                   0            197       0.763445             0.121132   \n",
       "198                   0            198       0.488229            -0.924735   \n",
       "199                   0            199      -0.926478            -0.115607   \n",
       "\n",
       "     phenotype  \n",
       "0    -0.943754  \n",
       "1    -0.010136  \n",
       "2     0.713118  \n",
       "3     2.270333  \n",
       "4     0.069500  \n",
       "..         ...  \n",
       "195   1.605400  \n",
       "196   0.589867  \n",
       "197   0.884576  \n",
       "198  -0.436506  \n",
       "199  -1.042085  \n",
       "\n",
       "[200 rows x 5 columns]"
      ]
     },
     "execution_count": 4,
     "metadata": {},
     "output_type": "execute_result"
    },
    {
     "ename": "",
     "evalue": "",
     "output_type": "error",
     "traceback": [
      "\u001b[1;31mnotebook controller is DISPOSED. \n",
      "\u001b[1;31mView Jupyter <a href='command:jupyter.viewOutput'>log</a> for further details."
     ]
    },
    {
     "ename": "",
     "evalue": "",
     "output_type": "error",
     "traceback": [
      "\u001b[1;31mnotebook controller is DISPOSED. \n",
      "\u001b[1;31mView Jupyter <a href='command:jupyter.viewOutput'>log</a> for further details."
     ]
    }
   ],
   "source": [
    "phenotypes"
   ]
  },
  {
   "cell_type": "code",
   "execution_count": null,
   "metadata": {},
   "outputs": [
    {
     "data": {
      "image/png": "[encoded data removed]",
      "text/plain": [
       "<Figure size 640x480 with 1 Axes>"
      ]
     },
     "metadata": {},
     "output_type": "display_data"
    },
    {
     "name": "stdout",
     "output_type": "stream",
     "text": [
      "Mean of phenotypes: 8.881784197001253e-18\n",
      "Standard deviation of phenotypes: 0.9999999999999998\n"
     ]
    },
    {
     "ename": "",
     "evalue": "",
     "output_type": "error",
     "traceback": [
      "\u001b[1;31mnotebook controller is DISPOSED. \n",
      "\u001b[1;31mView Jupyter <a href='command:jupyter.viewOutput'>log</a> for further details."
     ]
    },
    {
     "ename": "",
     "evalue": "",
     "output_type": "error",
     "traceback": [
      "\u001b[1;31mnotebook controller is DISPOSED. \n",
      "\u001b[1;31mView Jupyter <a href='command:jupyter.viewOutput'>log</a> for further details."
     ]
    }
   ],
   "source": [
    "\n",
    "plt.hist(phenotypes[\"phenotype\"], bins=40)\n",
    "plt.title(\"Phenotypes\")\n",
    "plt.show()\n",
    "print(\"Mean of phenotypes: \" + str(phenotypes['phenotype'].mean()))\n",
    "print(\"Standard deviation of phenotypes: \" + str(phenotypes['phenotype'].std()))"
   ]
  },
  {
   "cell_type": "markdown",
   "metadata": {},
   "source": [
    "The second demo uses the multivariate normal for multivariate simulation."
   ]
  },
  {
   "cell_type": "code",
   "execution_count": null,
   "metadata": {},
   "outputs": [
    {
     "name": "stdout",
     "output_type": "stream",
     "text": [
      "The initial effect sizes are \n",
      "       mutation_id  effect_size  causal_mutation_id\n",
      "0                0     0.519955                   0\n",
      "1                0    -0.835345                   1\n",
      "2                1    -0.132988                   0\n",
      "3                1     0.588967                   1\n",
      "4                2    -1.013731                   0\n",
      "...            ...          ...                 ...\n",
      "19995        10890    -1.440376                   1\n",
      "19996        10891    -0.564984                   0\n",
      "19997        10891     1.015028                   1\n",
      "19998        10892    -0.251851                   0\n",
      "19999        10892    -0.227234                   1\n",
      "\n",
      "[20000 rows x 3 columns]\n",
      "The genetic values of the individuals are \n",
      "     individual_id  genetic_value  causal_mutation_id\n",
      "0                0       1.158837                   0\n",
      "1                0      -3.663374                   1\n",
      "2                1      27.248589                   0\n",
      "3                1      14.443919                   1\n",
      "4                2      60.766476                   0\n",
      "..             ...            ...                 ...\n",
      "395            197     -54.165110                   1\n",
      "396            198      43.713410                   0\n",
      "397            198     -10.539031                   1\n",
      "398            199      31.813374                   0\n",
      "399            199      25.525226                   1\n",
      "\n",
      "[400 rows x 3 columns]\n"
     ]
    },
    {
     "ename": "",
     "evalue": "",
     "output_type": "error",
     "traceback": [
      "\u001b[1;31mnotebook controller is DISPOSED. \n",
      "\u001b[1;31mView Jupyter <a href='command:jupyter.viewOutput'>log</a> for further details."
     ]
    },
    {
     "ename": "",
     "evalue": "",
     "output_type": "error",
     "traceback": [
      "\u001b[1;31mnotebook controller is DISPOSED. \n",
      "\u001b[1;31mView Jupyter <a href='command:jupyter.viewOutput'>log</a> for further details."
     ]
    }
   ],
   "source": [
    "grg_1 = pygrgl.load_immutable_grg(\"test-200-samples.grg\") #loading in a sample grg stored in the same directory\n",
    "\n",
    "model_type = \"multivariate normal\"\n",
    "means = np.zeros(2)\n",
    "cov = np.array([[1, 0.25], [0.25, 1]])\n",
    "\n",
    "model = grg_causal_mutation_model(model_type, mean=means, cov=cov)\n",
    "\n",
    "num_causal = 10000\n",
    "\n",
    "random_seed = 1\n",
    "\n",
    "h2 = [0.4789, 0.5]\n",
    "\n",
    "effect_output_required = True #saves the effect sizes data for each mutation node in a .par file\n",
    "\n",
    "effect_path = 'multi_sample_effect_sizes.par'\n",
    "\n",
    "standardized_output=True\n",
    "\n",
    "output_path = 'multi_normal_pheno.phen' #define the path you want it to be saved at, file of this name can be found in the same directory\n",
    "\n",
    "phenotypes_multi_normal = sim_phenotypes(grg_1, model, num_causal, random_seed, noise_heritability=h2, save_effect_output=effect_output_required, effect_path=effect_path, standardized_output=standardized_output, path=output_path)\n",
    "\n"
   ]
  },
  {
   "cell_type": "code",
   "execution_count": null,
   "metadata": {},
   "outputs": [
    {
     "data": {
      "text/html": [
       "<div>\n",
       "<style scoped>\n",
       "    .dataframe tbody tr th:only-of-type {\n",
       "        vertical-align: middle;\n",
       "    }\n",
       "\n",
       "    .dataframe tbody tr th {\n",
       "        vertical-align: top;\n",
       "    }\n",
       "\n",
       "    .dataframe thead th {\n",
       "        text-align: right;\n",
       "    }\n",
       "</style>\n",
       "<table border=\"1\" class=\"dataframe\">\n",
       "  <thead>\n",
       "    <tr style=\"text-align: right;\">\n",
       "      <th></th>\n",
       "      <th>causal_mutation_id</th>\n",
       "      <th>individual_id</th>\n",
       "      <th>genetic_value</th>\n",
       "      <th>environmental_noise</th>\n",
       "      <th>phenotype</th>\n",
       "    </tr>\n",
       "  </thead>\n",
       "  <tbody>\n",
       "    <tr>\n",
       "      <th>0</th>\n",
       "      <td>0</td>\n",
       "      <td>0</td>\n",
       "      <td>-0.416617</td>\n",
       "      <td>-0.511274</td>\n",
       "      <td>-0.927891</td>\n",
       "    </tr>\n",
       "    <tr>\n",
       "      <th>1</th>\n",
       "      <td>1</td>\n",
       "      <td>0</td>\n",
       "      <td>-0.038067</td>\n",
       "      <td>0.933817</td>\n",
       "      <td>0.895750</td>\n",
       "    </tr>\n",
       "    <tr>\n",
       "      <th>2</th>\n",
       "      <td>0</td>\n",
       "      <td>1</td>\n",
       "      <td>0.071724</td>\n",
       "      <td>0.519463</td>\n",
       "      <td>0.591187</td>\n",
       "    </tr>\n",
       "    <tr>\n",
       "      <th>3</th>\n",
       "      <td>1</td>\n",
       "      <td>1</td>\n",
       "      <td>0.327068</td>\n",
       "      <td>-0.199475</td>\n",
       "      <td>0.127593</td>\n",
       "    </tr>\n",
       "    <tr>\n",
       "      <th>4</th>\n",
       "      <td>0</td>\n",
       "      <td>2</td>\n",
       "      <td>0.699104</td>\n",
       "      <td>-0.473340</td>\n",
       "      <td>0.225764</td>\n",
       "    </tr>\n",
       "    <tr>\n",
       "      <th>...</th>\n",
       "      <td>...</td>\n",
       "      <td>...</td>\n",
       "      <td>...</td>\n",
       "      <td>...</td>\n",
       "      <td>...</td>\n",
       "    </tr>\n",
       "    <tr>\n",
       "      <th>395</th>\n",
       "      <td>1</td>\n",
       "      <td>197</td>\n",
       "      <td>-1.056440</td>\n",
       "      <td>-0.336185</td>\n",
       "      <td>-1.392624</td>\n",
       "    </tr>\n",
       "    <tr>\n",
       "      <th>396</th>\n",
       "      <td>0</td>\n",
       "      <td>198</td>\n",
       "      <td>0.379909</td>\n",
       "      <td>0.741816</td>\n",
       "      <td>1.121725</td>\n",
       "    </tr>\n",
       "    <tr>\n",
       "      <th>397</th>\n",
       "      <td>1</td>\n",
       "      <td>198</td>\n",
       "      <td>-0.176715</td>\n",
       "      <td>-0.288220</td>\n",
       "      <td>-0.464936</td>\n",
       "    </tr>\n",
       "    <tr>\n",
       "      <th>398</th>\n",
       "      <td>0</td>\n",
       "      <td>199</td>\n",
       "      <td>0.157167</td>\n",
       "      <td>-0.420137</td>\n",
       "      <td>-0.262970</td>\n",
       "    </tr>\n",
       "    <tr>\n",
       "      <th>399</th>\n",
       "      <td>1</td>\n",
       "      <td>199</td>\n",
       "      <td>0.550524</td>\n",
       "      <td>-0.628833</td>\n",
       "      <td>-0.078309</td>\n",
       "    </tr>\n",
       "  </tbody>\n",
       "</table>\n",
       "<p>400 rows × 5 columns</p>\n",
       "</div>"
      ],
      "text/plain": [
       "     causal_mutation_id  individual_id  genetic_value  environmental_noise  \\\n",
       "0                     0              0      -0.416617            -0.511274   \n",
       "1                     1              0      -0.038067             0.933817   \n",
       "2                     0              1       0.071724             0.519463   \n",
       "3                     1              1       0.327068            -0.199475   \n",
       "4                     0              2       0.699104            -0.473340   \n",
       "..                  ...            ...            ...                  ...   \n",
       "395                   1            197      -1.056440            -0.336185   \n",
       "396                   0            198       0.379909             0.741816   \n",
       "397                   1            198      -0.176715            -0.288220   \n",
       "398                   0            199       0.157167            -0.420137   \n",
       "399                   1            199       0.550524            -0.628833   \n",
       "\n",
       "     phenotype  \n",
       "0    -0.927891  \n",
       "1     0.895750  \n",
       "2     0.591187  \n",
       "3     0.127593  \n",
       "4     0.225764  \n",
       "..         ...  \n",
       "395  -1.392624  \n",
       "396   1.121725  \n",
       "397  -0.464936  \n",
       "398  -0.262970  \n",
       "399  -0.078309  \n",
       "\n",
       "[400 rows x 5 columns]"
      ]
     },
     "execution_count": 7,
     "metadata": {},
     "output_type": "execute_result"
    },
    {
     "ename": "",
     "evalue": "",
     "output_type": "error",
     "traceback": [
      "\u001b[1;31mnotebook controller is DISPOSED. \n",
      "\u001b[1;31mView Jupyter <a href='command:jupyter.viewOutput'>log</a> for further details."
     ]
    },
    {
     "ename": "",
     "evalue": "",
     "output_type": "error",
     "traceback": [
      "\u001b[1;31mnotebook controller is DISPOSED. \n",
      "\u001b[1;31mView Jupyter <a href='command:jupyter.viewOutput'>log</a> for further details."
     ]
    }
   ],
   "source": [
    "phenotypes_multi_normal"
   ]
  },
  {
   "cell_type": "code",
   "execution_count": null,
   "metadata": {},
   "outputs": [
    {
     "data": {
      "image/png": "[encoded data removed]",
      "text/plain": [
       "<Figure size 640x480 with 1 Axes>"
      ]
     },
     "metadata": {},
     "output_type": "display_data"
    },
    {
     "name": "stdout",
     "output_type": "stream",
     "text": [
      "Mean of phenotypes: 8.659739592076221e-17\n",
      "Standard deviation of phenotypes: 1.0\n"
     ]
    },
    {
     "data": {
      "image/png": "[encoded data removed]",
      "text/plain": [
       "<Figure size 640x480 with 1 Axes>"
      ]
     },
     "metadata": {},
     "output_type": "display_data"
    },
    {
     "name": "stdout",
     "output_type": "stream",
     "text": [
      "Mean of phenotypes: -2.886579864025407e-17\n",
      "Standard deviation of phenotypes: 1.0\n"
     ]
    },
    {
     "ename": "",
     "evalue": "",
     "output_type": "error",
     "traceback": [
      "\u001b[1;31mnotebook controller is DISPOSED. \n",
      "\u001b[1;31mView Jupyter <a href='command:jupyter.viewOutput'>log</a> for further details."
     ]
    },
    {
     "ename": "",
     "evalue": "",
     "output_type": "error",
     "traceback": [
      "\u001b[1;31mnotebook controller is DISPOSED. \n",
      "\u001b[1;31mView Jupyter <a href='command:jupyter.viewOutput'>log</a> for further details."
     ]
    }
   ],
   "source": [
    "df_dict_test = {k: v.sort_values('individual_id') for k, v in phenotypes_multi_normal.groupby('causal_mutation_id')}\n",
    "\n",
    "num = len(df_dict_test)\n",
    "\n",
    "for i in range(num):\n",
    "  temp_df = df_dict_test[i]\n",
    "  plt.hist(temp_df[\"phenotype\"], bins=40)\n",
    "  plt.title(\"Phenotypes for Causal Mutation \" + str(i+1))\n",
    "  plt.show()\n",
    "  print(\"Mean of phenotypes: \" + str(temp_df['phenotype'].mean()))\n",
    "  print(\"Standard deviation of phenotypes: \" + str(temp_df['phenotype'].std()))"
   ]
  },
  {
   "cell_type": "code",
   "execution_count": null,
   "metadata": {},
   "outputs": [
    {
     "name": "stdout",
     "output_type": "stream",
     "text": [
      "The initial effect sizes are \n",
      "       mutation_id  effect_size  causal_mutation_id\n",
      "0                0     0.477827                   0\n",
      "1                0    -0.803153                   1\n",
      "2                1    -0.106011                   0\n",
      "3                1     0.576354                   1\n",
      "4                2    -0.954482                   0\n",
      "...            ...          ...                 ...\n",
      "19995        10890    -1.462889                   1\n",
      "19996        10891    -0.514574                   0\n",
      "19997        10891     0.978795                   1\n",
      "19998        10892    -0.258722                   0\n",
      "19999        10892    -0.235455                   1\n",
      "\n",
      "[20000 rows x 3 columns]\n",
      "The genetic values of the individuals are \n",
      "     individual_id  genetic_value  causal_mutation_id\n",
      "0                0       0.987169                   0\n",
      "1                0      -3.570608                   1\n",
      "2                1      27.554240                   0\n",
      "3                1      15.451738                   1\n",
      "4                2      59.138651                   0\n",
      "..             ...            ...                 ...\n",
      "395            197     -53.429707                   1\n",
      "396            198      42.748451                   0\n",
      "397            198      -8.528955                   1\n",
      "398            199      32.544153                   0\n",
      "399            199      26.600828                   1\n",
      "\n",
      "[400 rows x 3 columns]\n"
     ]
    },
    {
     "ename": "",
     "evalue": "",
     "output_type": "error",
     "traceback": [
      "\u001b[1;31mnotebook controller is DISPOSED. \n",
      "\u001b[1;31mView Jupyter <a href='command:jupyter.viewOutput'>log</a> for further details."
     ]
    },
    {
     "ename": "",
     "evalue": "",
     "output_type": "error",
     "traceback": [
      "\u001b[1;31mnotebook controller is DISPOSED. \n",
      "\u001b[1;31mView Jupyter <a href='command:jupyter.viewOutput'>log</a> for further details."
     ]
    }
   ],
   "source": [
    "grg_1 = pygrgl.load_immutable_grg(\"test-200-samples.grg\") #loading in a sample grg stored in the same directory\n",
    "\n",
    "model_type = \"multivariate normal\"\n",
    "means = np.zeros(2)\n",
    "cov = np.array([[1, 0.33], [0.33, 1]])\n",
    "\n",
    "model = grg_causal_mutation_model(model_type, mean=means, cov=cov)\n",
    "\n",
    "num_causal = 10000\n",
    "\n",
    "random_seed = 1\n",
    "\n",
    "mean = np.array([0,0])\n",
    "user_cov = np.array([[1, 0.25], [0.25, 1]])\n",
    "\n",
    "#heritability feature not used, user-defined noise simulated instead\n",
    "\n",
    "#by default, a standardized version of the phenotype output will not be saved\n",
    "\n",
    "phenotypes_multi_normal_non_h2 = sim_phenotypes(grg_1, model, num_causal, random_seed, user_mean=mean, user_cov=user_cov, normalize_genetic_values_after=True)\n",
    "\n"
   ]
  },
  {
   "cell_type": "code",
   "execution_count": null,
   "metadata": {},
   "outputs": [
    {
     "data": {
      "text/html": [
       "<div>\n",
       "<style scoped>\n",
       "    .dataframe tbody tr th:only-of-type {\n",
       "        vertical-align: middle;\n",
       "    }\n",
       "\n",
       "    .dataframe tbody tr th {\n",
       "        vertical-align: top;\n",
       "    }\n",
       "\n",
       "    .dataframe thead th {\n",
       "        text-align: right;\n",
       "    }\n",
       "</style>\n",
       "<table border=\"1\" class=\"dataframe\">\n",
       "  <thead>\n",
       "    <tr style=\"text-align: right;\">\n",
       "      <th></th>\n",
       "      <th>causal_mutation_id</th>\n",
       "      <th>individual_id</th>\n",
       "      <th>genetic_value</th>\n",
       "      <th>environmental_noise</th>\n",
       "      <th>phenotype</th>\n",
       "    </tr>\n",
       "  </thead>\n",
       "  <tbody>\n",
       "    <tr>\n",
       "      <th>0</th>\n",
       "      <td>0</td>\n",
       "      <td>0</td>\n",
       "      <td>-0.627849</td>\n",
       "      <td>-0.030960</td>\n",
       "      <td>-0.658809</td>\n",
       "    </tr>\n",
       "    <tr>\n",
       "      <th>1</th>\n",
       "      <td>1</td>\n",
       "      <td>0</td>\n",
       "      <td>-0.081296</td>\n",
       "      <td>0.049103</td>\n",
       "      <td>-0.032193</td>\n",
       "    </tr>\n",
       "    <tr>\n",
       "      <th>2</th>\n",
       "      <td>0</td>\n",
       "      <td>1</td>\n",
       "      <td>0.127601</td>\n",
       "      <td>-0.010369</td>\n",
       "      <td>0.117232</td>\n",
       "    </tr>\n",
       "    <tr>\n",
       "      <th>3</th>\n",
       "      <td>1</td>\n",
       "      <td>1</td>\n",
       "      <td>0.465803</td>\n",
       "      <td>-0.025393</td>\n",
       "      <td>0.440410</td>\n",
       "    </tr>\n",
       "    <tr>\n",
       "      <th>4</th>\n",
       "      <td>0</td>\n",
       "      <td>2</td>\n",
       "      <td>1.025722</td>\n",
       "      <td>-0.006012</td>\n",
       "      <td>1.019710</td>\n",
       "    </tr>\n",
       "    <tr>\n",
       "      <th>...</th>\n",
       "      <td>...</td>\n",
       "      <td>...</td>\n",
       "      <td>...</td>\n",
       "      <td>...</td>\n",
       "      <td>...</td>\n",
       "    </tr>\n",
       "    <tr>\n",
       "      <th>395</th>\n",
       "      <td>1</td>\n",
       "      <td>197</td>\n",
       "      <td>-1.515289</td>\n",
       "      <td>0.052839</td>\n",
       "      <td>-1.462450</td>\n",
       "    </tr>\n",
       "    <tr>\n",
       "      <th>396</th>\n",
       "      <td>0</td>\n",
       "      <td>198</td>\n",
       "      <td>0.559657</td>\n",
       "      <td>-0.007720</td>\n",
       "      <td>0.551937</td>\n",
       "    </tr>\n",
       "    <tr>\n",
       "      <th>397</th>\n",
       "      <td>1</td>\n",
       "      <td>198</td>\n",
       "      <td>-0.223903</td>\n",
       "      <td>0.021886</td>\n",
       "      <td>-0.202017</td>\n",
       "    </tr>\n",
       "    <tr>\n",
       "      <th>398</th>\n",
       "      <td>0</td>\n",
       "      <td>199</td>\n",
       "      <td>0.269492</td>\n",
       "      <td>0.010613</td>\n",
       "      <td>0.280105</td>\n",
       "    </tr>\n",
       "    <tr>\n",
       "      <th>399</th>\n",
       "      <td>1</td>\n",
       "      <td>199</td>\n",
       "      <td>0.786461</td>\n",
       "      <td>0.037282</td>\n",
       "      <td>0.823743</td>\n",
       "    </tr>\n",
       "  </tbody>\n",
       "</table>\n",
       "<p>400 rows × 5 columns</p>\n",
       "</div>"
      ],
      "text/plain": [
       "     causal_mutation_id  individual_id  genetic_value  environmental_noise  \\\n",
       "0                     0              0      -0.627849            -0.030960   \n",
       "1                     1              0      -0.081296             0.049103   \n",
       "2                     0              1       0.127601            -0.010369   \n",
       "3                     1              1       0.465803            -0.025393   \n",
       "4                     0              2       1.025722            -0.006012   \n",
       "..                  ...            ...            ...                  ...   \n",
       "395                   1            197      -1.515289             0.052839   \n",
       "396                   0            198       0.559657            -0.007720   \n",
       "397                   1            198      -0.223903             0.021886   \n",
       "398                   0            199       0.269492             0.010613   \n",
       "399                   1            199       0.786461             0.037282   \n",
       "\n",
       "     phenotype  \n",
       "0    -0.658809  \n",
       "1    -0.032193  \n",
       "2     0.117232  \n",
       "3     0.440410  \n",
       "4     1.019710  \n",
       "..         ...  \n",
       "395  -1.462450  \n",
       "396   0.551937  \n",
       "397  -0.202017  \n",
       "398   0.280105  \n",
       "399   0.823743  \n",
       "\n",
       "[400 rows x 5 columns]"
      ]
     },
     "execution_count": 10,
     "metadata": {},
     "output_type": "execute_result"
    },
    {
     "ename": "",
     "evalue": "",
     "output_type": "error",
     "traceback": [
      "\u001b[1;31mnotebook controller is DISPOSED. \n",
      "\u001b[1;31mView Jupyter <a href='command:jupyter.viewOutput'>log</a> for further details."
     ]
    },
    {
     "ename": "",
     "evalue": "",
     "output_type": "error",
     "traceback": [
      "\u001b[1;31mnotebook controller is DISPOSED. \n",
      "\u001b[1;31mView Jupyter <a href='command:jupyter.viewOutput'>log</a> for further details."
     ]
    }
   ],
   "source": [
    "phenotypes_multi_normal_non_h2"
   ]
  },
  {
   "cell_type": "code",
   "execution_count": null,
   "metadata": {},
   "outputs": [
    {
     "ename": "",
     "evalue": "",
     "output_type": "error",
     "traceback": [
      "\u001b[1;31mnotebook controller is DISPOSED. \n",
      "\u001b[1;31mView Jupyter <a href='command:jupyter.viewOutput'>log</a> for further details."
     ]
    },
    {
     "ename": "",
     "evalue": "",
     "output_type": "error",
     "traceback": [
      "\u001b[1;31mnotebook controller is DISPOSED. \n",
      "\u001b[1;31mView Jupyter <a href='command:jupyter.viewOutput'>log</a> for further details."
     ]
    }
   ],
   "source": []
  }
 ],
 "metadata": {
  "kernelspec": {
   "display_name": "weilab",
   "language": "python",
   "name": "python3"
  },
  "language_info": {
   "codemirror_mode": {
    "name": "ipython",
    "version": 3
   },
   "file_extension": ".py",
   "mimetype": "text/x-python",
   "name": "python",
   "nbconvert_exporter": "python",
   "pygments_lexer": "ipython3",
   "version": "3.10.14"
  }
 },
 "nbformat": 4,
 "nbformat_minor": 2
}
