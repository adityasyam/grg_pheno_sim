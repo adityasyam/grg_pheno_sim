{
 "cells": [
  {
   "cell_type": "code",
   "execution_count": 1,
   "metadata": {},
   "outputs": [],
   "source": [
    "import numpy as np\n",
    "import pygrgl\n",
    "import matplotlib.pyplot as plt\n",
    "\n",
    "import sys\n",
    "sys.path.append('/Users/adityasyam/grg_pheno_sim') \n",
    "\n",
    "from grg_pheno_sim.phenotype import sim_phenotypes\n",
    "from grg_pheno_sim.model import grg_causal_mutation_model\n"
   ]
  },
  {
   "cell_type": "markdown",
   "metadata": {},
   "source": [
    "The following command only serves the purpose of converting the VCF zip file into a GRG that will be used for the phenotype simulation."
   ]
  },
  {
   "cell_type": "code",
   "execution_count": null,
   "metadata": {},
   "outputs": [],
   "source": [
    "%%script bash --out /dev/null\n",
    "echo \"Test\"\n",
    "grg construct --no-maf-flip -p 10 -t 2 ../data/test-200-samples.vcf.gz --out-file test-200-samples.grg"
   ]
  },
  {
   "cell_type": "markdown",
   "metadata": {},
   "source": [
    "This notebook contains demos where we combine all the stages of the phenotype simulator together to obtain final phenotypes in one go. The first demo uses the normal model for univariate simulation."
   ]
  },
  {
   "cell_type": "code",
   "execution_count": null,
   "metadata": {},
   "outputs": [],
   "source": [
    "grg_1 = pygrgl.load_immutable_grg(\"test-200-samples.grg\") #loading in a sample grg stored in the same directory\n",
    "\n",
    "model_type = \"normal\"\n",
    "mean = 0\n",
    "var = 1\n",
    "\n",
    "model = grg_causal_mutation_model(model_type, mean=mean, var=var)\n",
    "\n",
    "num_causal = 1000\n",
    "\n",
    "random_seed = 1\n",
    "\n",
    "normalize_genetic_values_before_noise = True\n",
    "\n",
    "noise_heritability = 0.33\n",
    "\n",
    "effect_output_required = True #saves the effect sizes data for each mutation node in a .par file\n",
    "\n",
    "effect_path = 'univariate_sample_effect_sizes.par'\n",
    "\n",
    "standardized_output = True\n",
    "\n",
    "output_path = 'normal_pheno.phen' #define the path to be saved at, this output is saved in the file of this name in the same directory\n",
    "\n",
    "header=True #set header parameter to true if column names are expected in output file\n",
    "\n",
    "phenotypes = sim_phenotypes(grg_1, model, num_causal, random_seed, normalize_genetic_values_before_noise=normalize_genetic_values_before_noise, noise_heritability=noise_heritability, save_effect_output=effect_output_required, effect_path=effect_path, standardized_output=standardized_output, path=output_path, header=header)\n"
   ]
  },
  {
   "cell_type": "code",
   "execution_count": null,
   "metadata": {},
   "outputs": [],
   "source": [
    "phenotypes"
   ]
  },
  {
   "cell_type": "code",
   "execution_count": null,
   "metadata": {},
   "outputs": [],
   "source": [
    "\n",
    "plt.hist(phenotypes[\"phenotype\"], bins=40)\n",
    "plt.title(\"Phenotypes\")\n",
    "plt.show()\n",
    "print(\"Mean of phenotypes: \" + str(phenotypes['phenotype'].mean()))\n",
    "print(\"Standard deviation of phenotypes: \" + str(phenotypes['phenotype'].std()))"
   ]
  },
  {
   "cell_type": "markdown",
   "metadata": {},
   "source": [
    "The second demo uses the multivariate normal for multivariate simulation."
   ]
  },
  {
   "cell_type": "code",
   "execution_count": null,
   "metadata": {},
   "outputs": [],
   "source": [
    "grg_1 = pygrgl.load_immutable_grg(\"test-200-samples.grg\") #loading in a sample grg stored in the same directory\n",
    "\n",
    "model_type = \"multivariate normal\"\n",
    "means = np.zeros(2)\n",
    "cov = np.array([[1, 0.25], [0.25, 1]])\n",
    "\n",
    "model = grg_causal_mutation_model(model_type, mean=means, cov=cov)\n",
    "\n",
    "num_causal = 10000\n",
    "\n",
    "random_seed = 1\n",
    "\n",
    "h2 = [0.4789, 0.5]\n",
    "\n",
    "effect_output_required = True #saves the effect sizes data for each mutation node in a .par file\n",
    "\n",
    "effect_path = 'multi_sample_effect_sizes.par'\n",
    "\n",
    "standardized_output=True\n",
    "\n",
    "output_path = 'multi_normal_pheno.phen' #define the path you want it to be saved at, file of this name can be found in the same directory\n",
    "\n",
    "phenotypes_multi_normal = sim_phenotypes(grg_1, model, num_causal, random_seed, noise_heritability=h2, save_effect_output=effect_output_required, effect_path=effect_path, standardized_output=standardized_output, path=output_path)\n",
    "\n"
   ]
  },
  {
   "cell_type": "code",
   "execution_count": null,
   "metadata": {},
   "outputs": [],
   "source": [
    "phenotypes_multi_normal"
   ]
  },
  {
   "cell_type": "code",
   "execution_count": null,
   "metadata": {},
   "outputs": [],
   "source": [
    "df_dict_test = {k: v.sort_values('individual_id') for k, v in phenotypes_multi_normal.groupby('causal_mutation_id')}\n",
    "\n",
    "num = len(df_dict_test)\n",
    "\n",
    "for i in range(num):\n",
    "  temp_df = df_dict_test[i]\n",
    "  plt.hist(temp_df[\"phenotype\"], bins=40)\n",
    "  plt.title(\"Phenotypes for Causal Mutation \" + str(i+1))\n",
    "  plt.show()\n",
    "  print(\"Mean of phenotypes: \" + str(temp_df['phenotype'].mean()))\n",
    "  print(\"Standard deviation of phenotypes: \" + str(temp_df['phenotype'].std()))"
   ]
  },
  {
   "cell_type": "code",
   "execution_count": null,
   "metadata": {},
   "outputs": [],
   "source": [
    "grg_1 = pygrgl.load_immutable_grg(\"test-200-samples.grg\") #loading in a sample grg stored in the same directory\n",
    "\n",
    "model_type = \"multivariate normal\"\n",
    "means = np.zeros(2)\n",
    "cov = np.array([[1, 0.33], [0.33, 1]])\n",
    "\n",
    "model = grg_causal_mutation_model(model_type, mean=means, cov=cov)\n",
    "\n",
    "num_causal = 10000\n",
    "\n",
    "random_seed = 1\n",
    "\n",
    "mean = np.array([0,0])\n",
    "user_cov = np.array([[1, 0.25], [0.25, 1]])\n",
    "\n",
    "#heritability feature not used, user-defined noise simulated instead\n",
    "\n",
    "#by default, a standardized version of the phenotype output will not be saved\n",
    "\n",
    "phenotypes_multi_normal_non_h2 = sim_phenotypes(grg_1, model, num_causal, random_seed, user_mean=mean, user_cov=user_cov, normalize_genetic_values_after=True)\n",
    "\n"
   ]
  },
  {
   "cell_type": "code",
   "execution_count": null,
   "metadata": {},
   "outputs": [],
   "source": [
    "phenotypes_multi_normal_non_h2"
   ]
  },
  {
   "cell_type": "code",
   "execution_count": null,
   "metadata": {},
   "outputs": [],
   "source": []
  }
 ],
 "metadata": {
  "kernelspec": {
   "display_name": "weilab",
   "language": "python",
   "name": "python3"
  },
  "language_info": {
   "codemirror_mode": {
    "name": "ipython",
    "version": 3
   },
   "file_extension": ".py",
   "mimetype": "text/x-python",
   "name": "python",
   "nbconvert_exporter": "python",
   "pygments_lexer": "ipython3",
   "version": "3.10.14"
  }
 },
 "nbformat": 4,
 "nbformat_minor": 2
}
