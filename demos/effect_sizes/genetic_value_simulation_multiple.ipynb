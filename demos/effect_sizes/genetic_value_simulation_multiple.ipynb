{
 "cells": [
  {
   "cell_type": "code",
   "execution_count": 1,
   "metadata": {},
   "outputs": [],
   "source": [
    "import numpy as np\n",
    "import pygrgl\n",
    "import matplotlib.pyplot as plt\n",
    "from sklearn.metrics import r2_score\n",
    "\n",
    "import sys\n",
    "sys.path.append('/Users/adityasyam/grg_pheno_sim') \n",
    "\n",
    "from grg_pheno_sim.effect_size import sim_grg_causal_mutation, additive_effect_sizes, samples_to_individuals, normalize_genetic_values\n",
    "from grg_pheno_sim.model import grg_causal_mutation_model\n",
    "from grg_pheno_sim.split import split_genetic_values\n",
    "\n",
    "from test_phenotype_sim.effect_size_test import test_additive_effect_sizes\n",
    "from test_phenotype_sim.genetic_value_test import split_sample_df, split_causal_mutation_df, split_normalized_genetic_values\n",
    "\n"
   ]
  },
  {
   "cell_type": "markdown",
   "metadata": {},
   "source": [
    "The following command only serves the purpose of converting the VCF zip file into a GRG that will be used for the phenotype simulation."
   ]
  },
  {
   "cell_type": "code",
   "execution_count": null,
   "metadata": {},
   "outputs": [],
   "source": [
    "%%script bash --out /dev/null\n",
    "echo \"Test\"\n",
    "grg construct --no-maf-flip -p 10 -t 2 ../data/test-200-samples.vcf.gz --out-file test-200-samples.grg"
   ]
  },
  {
   "cell_type": "code",
   "execution_count": 3,
   "metadata": {},
   "outputs": [],
   "source": [
    "grg_1 = pygrgl.load_immutable_grg(\"test-200-samples.grg\") #loading in a sample grg stored in the same directory\n"
   ]
  },
  {
   "cell_type": "code",
   "execution_count": null,
   "metadata": {},
   "outputs": [],
   "source": [
    "rng = np.random.default_rng()\n",
    "\n",
    "mean_1 = np.zeros(2)\n",
    "cov_1 = np.eye(2) \n",
    "model_normal_multi = grg_causal_mutation_model(\"multivariate normal\", mean=mean_1, cov=cov_1)\n",
    "\n",
    "#simulating effect sizes using just the model\n",
    "num_causal = 1000  #number of causal sites\n",
    "\n",
    "effect_sizes = model_normal_multi.sim_effect_size(num_causal, rng)\n",
    "\n",
    "print(\"Simulated Effect Sizes:\", effect_sizes)"
   ]
  },
  {
   "cell_type": "code",
   "execution_count": null,
   "metadata": {},
   "outputs": [],
   "source": [
    "trait_df_normal_multi = sim_grg_causal_mutation(grg_1, num_causal=num_causal, model=model_normal_multi, random_seed=1)\n",
    "\n",
    "trait_df_normal_multi #this is the pandas data frame showing the results using the normal distribution"
   ]
  },
  {
   "cell_type": "code",
   "execution_count": null,
   "metadata": {},
   "outputs": [],
   "source": [
    "sample_nodes_df_multi = additive_effect_sizes(grg_1, trait_df_normal_multi)\n",
    "sample_nodes_df_multi #the pandas dataframe containing only the sample nodes and their associated effect sizes, 400*n sample nodes expected, where n is the number of unique causal mutation ids"
   ]
  },
  {
   "cell_type": "code",
   "execution_count": null,
   "metadata": {},
   "outputs": [],
   "source": [
    "split_genetic_values(sample_nodes_df_multi, return_print=True)"
   ]
  },
  {
   "cell_type": "code",
   "execution_count": null,
   "metadata": {},
   "outputs": [],
   "source": [
    "split_df_list = split_genetic_df = split_genetic_values(sample_nodes_df_multi, return_list=True)\n",
    "split_df_list[0] #the first dataframe"
   ]
  },
  {
   "cell_type": "code",
   "execution_count": null,
   "metadata": {},
   "outputs": [],
   "source": [
    "split_df_list[1] #the second dataframe"
   ]
  },
  {
   "cell_type": "code",
   "execution_count": null,
   "metadata": {},
   "outputs": [],
   "source": [
    "df_dict, num = split_sample_df(sample_nodes_df_multi)\n",
    "causal_mutation_df_dict = split_causal_mutation_df(trait_df_normal_multi)\n",
    "\n",
    "ground_truth_genetic_values = {i: None for i in range(num)}\n",
    "\n",
    "for i in range(num):\n",
    "  ground_truth_genetic_values[i] = test_additive_effect_sizes(grg_1, causal_mutation_df_dict[i])\n",
    "  r2 = r2_score(ground_truth_genetic_values[i], df_dict[i]['genetic_value']) #plotting the expected versus actual genetic values to verify the additive function\n",
    "\n",
    "  plt.figure(figsize=(10, 6))\n",
    "  plt.scatter(range(len(df_dict[i]['genetic_value'])), df_dict[i]['genetic_value'], color='blue', label='Observed Genetic Value')\n",
    "  plt.scatter(range(len(ground_truth_genetic_values[i])), ground_truth_genetic_values[i], color='red', alpha=0.6, label='Expected Genetic Value')\n",
    "\n",
    "  plt.title(f'Comparison of Observed and Expected Genetic Values for Causal Mutation {i+1} \\n$R^2$ Score: {r2:.2f}')\n",
    "  plt.xlabel('Index')\n",
    "  plt.ylabel('Genetic Value Size')\n",
    "  plt.legend()\n",
    "\n",
    "  plt.grid(True)\n",
    "\n",
    "  plt.show()\n"
   ]
  },
  {
   "cell_type": "markdown",
   "metadata": {},
   "source": [
    "The two graphs above demonstrate that the genetic values for each of the causal mutations are calculated as expected by cross-verifying the values with the output generated by recursively verifying the ancestral mutation nodes in the GRG."
   ]
  },
  {
   "cell_type": "code",
   "execution_count": null,
   "metadata": {},
   "outputs": [],
   "source": [
    "individuals = samples_to_individuals(sample_nodes_df_multi)\n",
    "individuals"
   ]
  },
  {
   "cell_type": "code",
   "execution_count": null,
   "metadata": {},
   "outputs": [],
   "source": [
    "normalized_individual_multi_normal = normalize_genetic_values(individuals)\n",
    "normalized_individual_multi_normal"
   ]
  },
  {
   "cell_type": "code",
   "execution_count": null,
   "metadata": {},
   "outputs": [],
   "source": [
    "normalized_dict, num = split_normalized_genetic_values(normalized_individual_multi_normal)\n",
    "\n",
    "\n",
    "for i in range(num):\n",
    "  print(\"The new mean of genetic values for causal mutation \" + str(i+1) + \" is \" + str(normalized_dict[i]['genetic_value'].mean()))\n",
    "  print(\"The new standard deviation of genetic values for causal mutation \" + str(i+1) + \" is \" + str(normalized_dict[i]['genetic_value'].std()))\n",
    "\n"
   ]
  },
  {
   "cell_type": "markdown",
   "metadata": {},
   "source": [
    "Now, we demonstrate multivariate genetic value simulation for more than two causal mutations"
   ]
  },
  {
   "cell_type": "code",
   "execution_count": null,
   "metadata": {},
   "outputs": [],
   "source": [
    "rng = np.random.default_rng()\n",
    "\n",
    "scales_1 = np.array([1, 2, 5])\n",
    "model_exp_multi = grg_causal_mutation_model(\"multivariate exponential\", scales=scales_1, random_sign=False)\n",
    "\n",
    "#simulating effect sizes using just the model\n",
    "num_causal = 1000  #number of causal sites\n",
    "\n",
    "effect_sizes = model_exp_multi.sim_effect_size(num_causal, rng)\n",
    "\n",
    "print(\"Simulated Effect Sizes:\", effect_sizes)"
   ]
  },
  {
   "cell_type": "code",
   "execution_count": null,
   "metadata": {},
   "outputs": [],
   "source": [
    "trait_df_exp_multi = sim_grg_causal_mutation(grg_1, num_causal=num_causal, model=model_exp_multi, random_seed=1)\n",
    "trait_df_exp_multi\n"
   ]
  },
  {
   "cell_type": "code",
   "execution_count": null,
   "metadata": {},
   "outputs": [],
   "source": [
    "sample_nodes_df_multi_exp = additive_effect_sizes(grg_1, trait_df_exp_multi)\n",
    "sample_nodes_df_multi_exp #the pandas dataframe containing only the sample nodes and their associated effect sizes, 400*n sample nodes expected, where n is the number of unique causal mutation ids"
   ]
  },
  {
   "cell_type": "code",
   "execution_count": null,
   "metadata": {},
   "outputs": [],
   "source": [
    "df_dict, num = split_sample_df(sample_nodes_df_multi_exp)\n",
    "causal_mutation_df_dict = split_causal_mutation_df(trait_df_exp_multi)\n",
    "\n",
    "ground_truth_genetic_values = {i: None for i in range(num)}\n",
    "\n",
    "for i in range(num):\n",
    "  ground_truth_genetic_values[i] = test_additive_effect_sizes(grg_1, causal_mutation_df_dict[i])\n",
    "  r2 = r2_score(ground_truth_genetic_values[i], df_dict[i]['genetic_value']) #plotting the expected versus actual genetic values to verify the additive function\n",
    "\n",
    "  plt.figure(figsize=(10, 6))\n",
    "  plt.scatter(range(len(df_dict[i]['genetic_value'])), df_dict[i]['genetic_value'], color='blue', label='Observed Genetic Value')\n",
    "  plt.scatter(range(len(ground_truth_genetic_values[i])), ground_truth_genetic_values[i], color='red', alpha=0.6, label='Expected Genetic Value')\n",
    "\n",
    "  plt.title(f'Comparison of Observed and Expected Genetic Values for Causal Mutation {i+1}\\n$R^2$ Score: {r2:.2f}')\n",
    "  plt.xlabel('Index')\n",
    "  plt.ylabel('Genetic Value Size')\n",
    "  plt.legend()\n",
    "\n",
    "  plt.grid(True)\n",
    "\n",
    "  plt.show()\n"
   ]
  },
  {
   "cell_type": "markdown",
   "metadata": {},
   "source": [
    "The three graphs above demonstrate that the genetic values computed for all three causal mutations are exactly as predicted by the recursive ancestral method"
   ]
  },
  {
   "cell_type": "code",
   "execution_count": null,
   "metadata": {},
   "outputs": [],
   "source": [
    "individuals_exp_multi = samples_to_individuals(sample_nodes_df_multi_exp)\n",
    "individuals_exp_multi"
   ]
  },
  {
   "cell_type": "code",
   "execution_count": null,
   "metadata": {},
   "outputs": [],
   "source": [
    "normalized_individuals_multi_exp = normalize_genetic_values(individuals_exp_multi)\n",
    "normalized_individuals_multi_exp"
   ]
  },
  {
   "cell_type": "code",
   "execution_count": null,
   "metadata": {},
   "outputs": [],
   "source": [
    "normalized_dict, num = split_normalized_genetic_values(normalized_individuals_multi_exp)\n",
    "\n",
    "\n",
    "for i in range(num):\n",
    "  print(\"The new mean of genetic values for causal mutation \" + str(i+1) + \" is \" + str(normalized_dict[i]['genetic_value'].mean()))\n",
    "  print(\"The new standard deviation of genetic values for causal mutation \" + str(i+1) + \" is \" + str(normalized_dict[i]['genetic_value'].std()))\n",
    "\n"
   ]
  },
  {
   "cell_type": "code",
   "execution_count": null,
   "metadata": {},
   "outputs": [],
   "source": []
  }
 ],
 "metadata": {
  "kernelspec": {
   "display_name": "weilab",
   "language": "python",
   "name": "python3"
  },
  "language_info": {
   "codemirror_mode": {
    "name": "ipython",
    "version": 3
   },
   "file_extension": ".py",
   "mimetype": "text/x-python",
   "name": "python",
   "nbconvert_exporter": "python",
   "pygments_lexer": "ipython3",
   "version": "3.10.14"
  }
 },
 "nbformat": 4,
 "nbformat_minor": 2
}
