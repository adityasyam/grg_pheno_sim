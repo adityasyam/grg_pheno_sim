{
 "cells": [
  {
   "cell_type": "code",
   "execution_count": 1,
   "metadata": {},
   "outputs": [],
   "source": [
    "import numpy as np\n",
    "import pygrgl\n",
    "import matplotlib.pyplot as plt\n",
    "\n",
    "import sys\n",
    "sys.path.append('/Users/adityasyam/grg_pheno_sim') \n",
    "\n",
    "from grg_pheno_sim.effect_size import sim_grg_causal_mutation, additive_effect_sizes, samples_to_individuals, normalize_genetic_values\n",
    "from grg_pheno_sim.model import grg_causal_mutation_model\n",
    "from grg_pheno_sim.noise_sim import sim_env_noise\n",
    "from grg_pheno_sim.normalization import normalize\n",
    "from grg_pheno_sim.phenotype import convert_to_phen\n",
    "\n",
    "from test_phenotype_sim.phenotype_test import test_variance\n"
   ]
  },
  {
   "cell_type": "markdown",
   "metadata": {},
   "source": [
    "The following command only serves the purpose of converting the VCF zip file into a GRG that will be used for the phenotype simulation."
   ]
  },
  {
   "cell_type": "code",
   "execution_count": null,
   "metadata": {},
   "outputs": [],
   "source": [
    "%%script bash --out /dev/null\n",
    "echo \"Test\"\n",
    "grg construct --no-maf-flip -p 10 -t 2 ../data/test-200-samples.vcf.gz --out-file test-200-samples.grg"
   ]
  },
  {
   "cell_type": "code",
   "execution_count": 3,
   "metadata": {},
   "outputs": [],
   "source": [
    "grg_1 = pygrgl.load_immutable_grg(\"test-200-samples.grg\") #loading in a sample grg stored in the same directory\n"
   ]
  },
  {
   "cell_type": "code",
   "execution_count": null,
   "metadata": {},
   "outputs": [],
   "source": [
    "rng = np.random.default_rng()\n",
    "\n",
    "mean_1 = 0.0  \n",
    "var_1 = 1.0  \n",
    "model_normal = grg_causal_mutation_model(\"normal\", mean=mean_1, var=var_1)\n",
    "\n",
    "#simulating effect sizes using just the model\n",
    "num_causal = 1000  #number of causal sites\n",
    "\n",
    "effect_sizes = model_normal.sim_effect_size(num_causal, rng)\n",
    "\n",
    "print(\"Simulated Effect Sizes:\", effect_sizes)"
   ]
  },
  {
   "cell_type": "code",
   "execution_count": 5,
   "metadata": {},
   "outputs": [],
   "source": [
    "\n",
    "trait_df_normal = sim_grg_causal_mutation(grg_1, num_causal=num_causal, model=model_normal, random_seed=1)\n",
    "sample_nodes_df = additive_effect_sizes(grg_1, trait_df_normal)"
   ]
  },
  {
   "cell_type": "code",
   "execution_count": null,
   "metadata": {},
   "outputs": [],
   "source": [
    "individual_genetic_value_df = samples_to_individuals(sample_nodes_df) #non-normalized genetic value df\n",
    "individual_genetic_value_df"
   ]
  },
  {
   "cell_type": "markdown",
   "metadata": {},
   "source": [
    "We first show how to simulate environmental noise before the genetic values have been normalized, with a narrow-sense heritability of 0.5."
   ]
  },
  {
   "cell_type": "code",
   "execution_count": null,
   "metadata": {},
   "outputs": [],
   "source": [
    "phenotypes = sim_env_noise(individual_genetic_value_df, h2=0.5) #simulating environmental noise without normalizing genetic values\n",
    "phenotype_df = phenotypes.phenotype_df\n",
    "phenotype_df"
   ]
  },
  {
   "cell_type": "code",
   "execution_count": null,
   "metadata": {},
   "outputs": [],
   "source": [
    "h2_used = phenotypes.get_h2() #showing the h2 factor used, can be acccessed since it is a class attribute of phenotypes\n",
    "print(h2_used)"
   ]
  },
  {
   "cell_type": "code",
   "execution_count": null,
   "metadata": {},
   "outputs": [],
   "source": [
    "phenotype_df = normalize(phenotypes)\n",
    "test1 = test_variance(phenotype_df)\n",
    "print(\"Variance of the phenotypes is \" + str(phenotype_df['phenotype'].var()))\n",
    "print(\"Variance of the genetic values is \" + str(phenotype_df['genetic_value'].var()))\n",
    "print(\"Variance of the noise is \" + str(phenotype_df['environmental_noise'].var()))\n",
    "print(test1)   #tests the variance condition in the phenotypic data, expected value close to zero\n",
    "phenotype_df"
   ]
  },
  {
   "cell_type": "code",
   "execution_count": null,
   "metadata": {},
   "outputs": [],
   "source": [
    "\n",
    "plt.hist(phenotype_df[\"environmental_noise\"], bins=40)\n",
    "plt.title(\"Environmental Noise\")\n",
    "plt.show()\n",
    "print(\"Mean of noise: \" + str(phenotype_df['environmental_noise'].mean()))\n",
    "print(\"Standard deviation of noise: \" + str(phenotype_df['environmental_noise'].std()))"
   ]
  },
  {
   "cell_type": "markdown",
   "metadata": {},
   "source": [
    "Now, we show a sample where zero noise is simulated (h2=1) by default."
   ]
  },
  {
   "cell_type": "code",
   "execution_count": null,
   "metadata": {},
   "outputs": [],
   "source": [
    "phenotypes_zero_noise = sim_env_noise(individual_genetic_value_df) #simulating environmental noise without normalizing genetic values\n",
    "phenotype_df_zero_noise = phenotypes_zero_noise.phenotype_df\n",
    "phenotype_df_zero_noise"
   ]
  },
  {
   "cell_type": "code",
   "execution_count": null,
   "metadata": {},
   "outputs": [],
   "source": [
    "phenotype_df_zero_noise = normalize(phenotypes_zero_noise)\n",
    "print(\"Variance of the phenotypes is \" + str(phenotype_df_zero_noise['phenotype'].var()))\n",
    "print(\"Variance of the genetic values is \" + str(phenotype_df_zero_noise['genetic_value'].var()))\n",
    "print(\"Variance of the noise is \" + str(phenotype_df_zero_noise['environmental_noise'].var()))\n",
    "phenotype_df_zero_noise"
   ]
  },
  {
   "cell_type": "code",
   "execution_count": null,
   "metadata": {},
   "outputs": [],
   "source": [
    "phenotype_df_zero_noise_genetic_normalize = normalize(phenotypes_zero_noise, normalize_genetic_values=True)\n",
    "print(\"Variance of the phenotypes is \" + str(phenotype_df_zero_noise_genetic_normalize['phenotype'].var()))\n",
    "print(\"Variance of the genetic values is \" + str(phenotype_df_zero_noise_genetic_normalize['genetic_value'].var()))\n",
    "print(\"Variance of the noise is \" + str(phenotype_df_zero_noise_genetic_normalize['environmental_noise'].var()))\n",
    "phenotype_df_zero_noise_genetic_normalize\n"
   ]
  },
  {
   "cell_type": "markdown",
   "metadata": {},
   "source": [
    "Now, we simulate environmental noise before the genetic values have been normalized, with user defined noise. If user_defined is set to True, the user must specify mean and std values to be simulated from."
   ]
  },
  {
   "cell_type": "code",
   "execution_count": null,
   "metadata": {},
   "outputs": [],
   "source": [
    "phenotype_non_normalized_user_defined = sim_env_noise(individual_genetic_value_df, user_defined=True, mean=0, std=1) #simulating standard noise on the non-normalized genetic values\n",
    "phenotype_df_non_normalized_user_defined = phenotype_non_normalized_user_defined.phenotype_df\n",
    "phenotype_df_non_normalized_user_defined"
   ]
  },
  {
   "cell_type": "markdown",
   "metadata": {},
   "source": [
    "The user can choose to view the h2 narrow sense heritability factor for the user-defined noise as well."
   ]
  },
  {
   "cell_type": "code",
   "execution_count": null,
   "metadata": {},
   "outputs": [],
   "source": [
    "h2_user_defined = phenotype_non_normalized_user_defined.get_h2()\n",
    "print(h2_user_defined)"
   ]
  },
  {
   "cell_type": "code",
   "execution_count": null,
   "metadata": {},
   "outputs": [],
   "source": [
    "phenotype_df_non_normalized_user_defined = normalize(phenotype_non_normalized_user_defined)\n",
    "print(\"Variance of the phenotypes is \" + str(phenotype_df_non_normalized_user_defined['phenotype'].var()))\n",
    "print(\"Variance of the genetic values is \" + str(phenotype_df_non_normalized_user_defined['genetic_value'].var()))\n",
    "print(\"Variance of the noise is \" + str(phenotype_df_non_normalized_user_defined['environmental_noise'].var()))\n",
    "phenotype_df_non_normalized_user_defined"
   ]
  },
  {
   "cell_type": "code",
   "execution_count": null,
   "metadata": {},
   "outputs": [],
   "source": [
    "\n",
    "plt.hist(phenotype_df_non_normalized_user_defined[\"environmental_noise\"], bins=40)\n",
    "plt.title(\"Environmental Noise\")\n",
    "plt.show()\n",
    "print(\"Mean of noise: \" + str(phenotype_df_non_normalized_user_defined['environmental_noise'].mean()))\n",
    "print(\"Standard deviation of noise: \" + str(phenotype_df_non_normalized_user_defined['environmental_noise'].std()))"
   ]
  },
  {
   "cell_type": "markdown",
   "metadata": {},
   "source": [
    "The user could also define a custom distribution to simulate environmental noise from."
   ]
  },
  {
   "cell_type": "code",
   "execution_count": null,
   "metadata": {},
   "outputs": [],
   "source": [
    "genetic_val_df_normalized = normalize_genetic_values(individual_genetic_value_df) #normalized genetic value df\n",
    "genetic_val_df_normalized"
   ]
  },
  {
   "cell_type": "markdown",
   "metadata": {},
   "source": [
    "We now show how to simulate environmental noise after the genetic values have been normalized, with a narrow-sense heritability of 0.25."
   ]
  },
  {
   "cell_type": "code",
   "execution_count": null,
   "metadata": {},
   "outputs": [],
   "source": [
    "phenotype_post_normalization_h2 = sim_env_noise(genetic_val_df_normalized, h2=0.25) #simulating noise after genetic values have been normalized\n",
    "phenotype_df_post_normalization_h2 = phenotype_post_normalization_h2.phenotype_df\n",
    "phenotype_df_post_normalization_h2"
   ]
  },
  {
   "cell_type": "code",
   "execution_count": null,
   "metadata": {},
   "outputs": [],
   "source": [
    "phenotype_df_post_normalization_h2 = normalize(phenotype_post_normalization_h2)\n",
    "print(\"Variance of the phenotypes is \" + str(phenotype_df_post_normalization_h2['phenotype'].var()))\n",
    "print(\"Variance of the genetic values is \" + str(phenotype_df_post_normalization_h2['genetic_value'].var()))\n",
    "print(\"Variance of the noise is \" + str(phenotype_df_post_normalization_h2['environmental_noise'].var()))\n",
    "test3 = test_variance(phenotype_df_post_normalization_h2)\n",
    "print(test3)  #tests the variance condition in the phenotypic data, expected value is close to zero\n",
    "phenotype_df_post_normalization_h2"
   ]
  },
  {
   "cell_type": "code",
   "execution_count": null,
   "metadata": {},
   "outputs": [],
   "source": [
    "\n",
    "plt.hist(phenotype_df_post_normalization_h2[\"environmental_noise\"], bins=40)\n",
    "plt.title(\"Environmental Noise\")\n",
    "plt.show()\n",
    "print(\"Mean of noise: \" + str(phenotype_df_post_normalization_h2['environmental_noise'].mean()))\n",
    "print(\"Standard deviation of noise: \" + str(phenotype_df_post_normalization_h2['environmental_noise'].std()))"
   ]
  },
  {
   "cell_type": "markdown",
   "metadata": {},
   "source": [
    "We finally show how to simulate environmental noise after the genetic values have been normalized, with a narrow-sense heritability of 1 (default case) and user defined cases for the noise."
   ]
  },
  {
   "cell_type": "code",
   "execution_count": null,
   "metadata": {},
   "outputs": [],
   "source": [
    "phenotype_post_normalization_default_mean_and_std = sim_env_noise(genetic_val_df_normalized, user_defined=True, mean=0, std=1) #simulating noise after genetic values have been normalized with h2=1 and user defined with standard mean and std\n",
    "phenotype_df_post_normalization_default_mean_and_std = phenotype_post_normalization_default_mean_and_std.phenotype_df\n",
    "phenotype_df_post_normalization_default_mean_and_std"
   ]
  },
  {
   "cell_type": "code",
   "execution_count": null,
   "metadata": {},
   "outputs": [],
   "source": [
    "phenotype_df_post_normalization_default_mean_and_std = normalize(phenotype_post_normalization_default_mean_and_std)\n",
    "print(\"Variance of the phenotypes is \" + str(phenotype_df_post_normalization_default_mean_and_std['phenotype'].var()))\n",
    "print(\"Variance of the genetic values is \" + str(phenotype_df_post_normalization_default_mean_and_std['genetic_value'].var()))\n",
    "print(\"Variance of the noise is \" + str(phenotype_df_post_normalization_default_mean_and_std['environmental_noise'].var()))\n",
    "phenotype_df_post_normalization_default_mean_and_std"
   ]
  },
  {
   "cell_type": "code",
   "execution_count": null,
   "metadata": {},
   "outputs": [],
   "source": [
    "\n",
    "plt.hist(phenotype_df_post_normalization_default_mean_and_std[\"environmental_noise\"], bins=40)\n",
    "plt.title(\"Environmental Noise\")\n",
    "plt.show()\n",
    "print(\"Mean of noise: \" + str(phenotype_df_post_normalization_default_mean_and_std['environmental_noise'].mean()))\n",
    "print(\"Standard deviation of noise: \" + str(phenotype_df_post_normalization_default_mean_and_std['environmental_noise'].std()))"
   ]
  },
  {
   "cell_type": "code",
   "execution_count": null,
   "metadata": {},
   "outputs": [],
   "source": [
    "phenotype_post_normalization_unique_mean_and_std = sim_env_noise(genetic_val_df_normalized, user_defined=True, mean=1, std=2) #simulating noise after genetic values have been normalized with h2=1 and user defined mean and std\n",
    "phenotype_df_post_normalization_unique_mean_and_std = phenotype_post_normalization_unique_mean_and_std.phenotype_df\n",
    "phenotype_df_post_normalization_unique_mean_and_std"
   ]
  },
  {
   "cell_type": "code",
   "execution_count": null,
   "metadata": {},
   "outputs": [],
   "source": [
    "phenotype_df_post_normalization_unique_mean_and_std = normalize(phenotype_post_normalization_unique_mean_and_std)\n",
    "print(\"Variance of the phenotypes is \" + str(phenotype_df_post_normalization_unique_mean_and_std['phenotype'].var()))\n",
    "print(\"Variance of the genetic values is \" + str(phenotype_df_post_normalization_unique_mean_and_std['genetic_value'].var()))\n",
    "print(\"Variance of the noise is \" + str(phenotype_df_post_normalization_unique_mean_and_std['environmental_noise'].var()))\n",
    "test5 = test_variance(phenotype_df_post_normalization_unique_mean_and_std)\n",
    "phenotype_df_post_normalization_unique_mean_and_std"
   ]
  },
  {
   "cell_type": "code",
   "execution_count": null,
   "metadata": {},
   "outputs": [],
   "source": [
    "\n",
    "plt.hist(phenotype_df_post_normalization_unique_mean_and_std[\"environmental_noise\"], bins=40)\n",
    "plt.title(\"Environmental Noise\")\n",
    "plt.show()\n",
    "print(\"Mean of noise: \" + str(phenotype_df_post_normalization_unique_mean_and_std['environmental_noise'].mean()))\n",
    "print(\"Standard deviation of noise: \" + str(phenotype_df_post_normalization_unique_mean_and_std['environmental_noise'].std()))"
   ]
  },
  {
   "cell_type": "markdown",
   "metadata": {},
   "source": [
    "We show an example of converting the final phenotypes output to a standard .phen file format to be saved in the local directory."
   ]
  },
  {
   "cell_type": "code",
   "execution_count": 28,
   "metadata": {},
   "outputs": [],
   "source": [
    "local_path = 'post_noise_phenotypes.phen' #will be saved in a .phen file of this name in the local directory.\n",
    "convert_to_phen(phenotype_df_post_normalization_unique_mean_and_std, local_path, include_header=True)"
   ]
  },
  {
   "cell_type": "code",
   "execution_count": null,
   "metadata": {},
   "outputs": [],
   "source": []
  }
 ],
 "metadata": {
  "kernelspec": {
   "display_name": "weilab",
   "language": "python",
   "name": "python3"
  },
  "language_info": {
   "codemirror_mode": {
    "name": "ipython",
    "version": 3
   },
   "file_extension": ".py",
   "mimetype": "text/x-python",
   "name": "python",
   "nbconvert_exporter": "python",
   "pygments_lexer": "ipython3",
   "version": "3.10.14"
  }
 },
 "nbformat": 4,
 "nbformat_minor": 2
}
