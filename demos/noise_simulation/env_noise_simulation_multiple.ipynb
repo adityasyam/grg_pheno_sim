{
 "cells": [
  {
   "cell_type": "code",
   "execution_count": 1,
   "metadata": {},
   "outputs": [],
   "source": [
    "import numpy as np\n",
    "import pygrgl\n",
    "import matplotlib.pyplot as plt\n",
    "\n",
    "import sys\n",
    "sys.path.append('/Users/adityasyam/grg_pheno_sim') \n",
    "\n",
    "from grg_pheno_sim.effect_size import sim_grg_causal_mutation, additive_effect_sizes, samples_to_individuals, normalize_genetic_values\n",
    "from grg_pheno_sim.model import grg_causal_mutation_model\n",
    "from grg_pheno_sim.noise_sim import sim_env_noise\n",
    "from grg_pheno_sim.normalization import normalize\n",
    "from grg_pheno_sim.split import split_phenotypes\n"
   ]
  },
  {
   "cell_type": "markdown",
   "metadata": {},
   "source": [
    "The following command only serves the purpose of converting the VCF zip file into a GRG that will be used for the phenotype simulation."
   ]
  },
  {
   "cell_type": "code",
   "execution_count": null,
   "metadata": {},
   "outputs": [],
   "source": [
    "%%script bash --out /dev/null\n",
    "echo \"Test\"\n",
    "grg construct --no-maf-flip -p 10 -t 2 ../data/test-200-samples.vcf.gz --out-file test-200-samples.grg"
   ]
  },
  {
   "cell_type": "code",
   "execution_count": 3,
   "metadata": {},
   "outputs": [],
   "source": [
    "grg_1 = pygrgl.load_immutable_grg(\"test-200-samples.grg\") #loading in a sample grg stored in the same directory\n"
   ]
  },
  {
   "cell_type": "code",
   "execution_count": null,
   "metadata": {},
   "outputs": [],
   "source": [
    "rng = np.random.default_rng()\n",
    "\n",
    "mean_1 = np.zeros(2)\n",
    "cov_1 = np.eye(2) \n",
    "model_normal_multi = grg_causal_mutation_model(\"multivariate normal\", mean=mean_1, cov=cov_1)\n",
    "\n",
    "#simulating effect sizes using just the model\n",
    "num_causal = 1000  #number of causal sites\n",
    "\n",
    "effect_sizes = model_normal_multi.sim_effect_size(num_causal, rng)\n",
    "\n",
    "print(\"Simulated Effect Sizes:\", effect_sizes)"
   ]
  },
  {
   "cell_type": "code",
   "execution_count": 5,
   "metadata": {},
   "outputs": [],
   "source": [
    "trait_df_normal_multi = sim_grg_causal_mutation(grg_1, num_causal=num_causal, model=model_normal_multi, random_seed=1)\n",
    "sample_nodes_df_multi = additive_effect_sizes(grg_1, trait_df_normal_multi)\n",
    "individuals = samples_to_individuals(sample_nodes_df_multi)\n",
    "normalized_individual_multi_normal = normalize_genetic_values(individuals)\n"
   ]
  },
  {
   "cell_type": "markdown",
   "metadata": {},
   "source": [
    "First, we will demonstrate how to simulate user-defined noise for multiple causal mutations (if the user does not want to use the h2 heritability feature). In this case, the user must specify the mean and covariance matrix to be used."
   ]
  },
  {
   "cell_type": "code",
   "execution_count": null,
   "metadata": {},
   "outputs": [],
   "source": [
    "std_means = np.array([0, 0])\n",
    "std_covariances = np.array([[1, 0], [0, 1]])\n",
    "phenotypes_user_defined_multi_normal = sim_env_noise(individuals, user_defined=True, means=std_means, cov=std_covariances) #simulates noise from the multivariate standard normal distribution with means of zero and an identity matrix for covariance\n",
    "phenotypes_user_defined_multi_normal_df = phenotypes_user_defined_multi_normal.phenotype_df\n",
    "phenotypes_user_defined_multi_normal_df"
   ]
  },
  {
   "cell_type": "markdown",
   "metadata": {},
   "source": [
    "The user can extract the h2 assigned to any phenotype simulation as follows."
   ]
  },
  {
   "cell_type": "code",
   "execution_count": null,
   "metadata": {},
   "outputs": [],
   "source": [
    "user_defined_multi_h2 = phenotypes_user_defined_multi_normal.get_h2()\n",
    "print(user_defined_multi_h2)"
   ]
  },
  {
   "cell_type": "code",
   "execution_count": null,
   "metadata": {},
   "outputs": [],
   "source": [
    "split_phenotypes(phenotypes_user_defined_multi_normal_df, return_print=True)"
   ]
  },
  {
   "cell_type": "code",
   "execution_count": null,
   "metadata": {},
   "outputs": [],
   "source": [
    "split_phenotypes_list = split_phenotypes(phenotypes_user_defined_multi_normal_df, return_list=True)\n",
    "split_phenotypes_list[0] #the first dataframe"
   ]
  },
  {
   "cell_type": "code",
   "execution_count": null,
   "metadata": {},
   "outputs": [],
   "source": [
    "split_phenotypes_list[1] #the second dataframe"
   ]
  },
  {
   "cell_type": "code",
   "execution_count": null,
   "metadata": {},
   "outputs": [],
   "source": [
    "\n",
    "plt.hist(phenotypes_user_defined_multi_normal_df[\"environmental_noise\"], bins=40)\n",
    "plt.title(\"Environmental Noise\")\n",
    "plt.show()\n",
    "print(\"Mean of noise: \" + str(phenotypes_user_defined_multi_normal_df['environmental_noise'].mean()))\n",
    "print(\"Standard deviation of noise: \" + str(phenotypes_user_defined_multi_normal_df['environmental_noise'].std()))"
   ]
  },
  {
   "cell_type": "code",
   "execution_count": null,
   "metadata": {},
   "outputs": [],
   "source": [
    "df_dict_test = {k: v.sort_values('individual_id') for k, v in phenotypes_user_defined_multi_normal_df.groupby('causal_mutation_id')}\n",
    "\n",
    "num = len(df_dict_test)\n",
    "\n",
    "for i in range(num):\n",
    "  temp_df = df_dict_test[i]\n",
    "  plt.hist(temp_df[\"environmental_noise\"], bins=40)\n",
    "  plt.title(\"Environmental Noise for Causal Mutation \" + str(i+1) )\n",
    "  plt.show()\n",
    "  print(\"Mean of noise: \" + str(temp_df['environmental_noise'].mean()))\n",
    "  print(\"Standard deviation of noise: \" + str(temp_df['environmental_noise'].std()))"
   ]
  },
  {
   "cell_type": "code",
   "execution_count": null,
   "metadata": {},
   "outputs": [],
   "source": [
    "phenotypes_user_defined_multi_normal_df_normalized = normalize(phenotypes_user_defined_multi_normal)\n",
    "phenotypes_user_defined_multi_normal_df_normalized"
   ]
  },
  {
   "cell_type": "code",
   "execution_count": null,
   "metadata": {},
   "outputs": [],
   "source": [
    "means = np.array([0, 0])\n",
    "covariance = np.array([[1, 0.25], [0.25, 1]])\n",
    "phenotypes_user_defined_multi_normal_special_cov = sim_env_noise(individuals, user_defined=True, means=means, cov=covariance) #simulating noise using a user-defined covariance matrix instead of the identity matrix\n",
    "phenotypes_user_defined_multi_normal_special_cov_df = phenotypes_user_defined_multi_normal_special_cov.phenotype_df\n",
    "phenotypes_user_defined_multi_normal_special_cov_df"
   ]
  },
  {
   "cell_type": "code",
   "execution_count": null,
   "metadata": {},
   "outputs": [],
   "source": [
    "df_dict_test_cov = {k: v.sort_values('individual_id') for k, v in phenotypes_user_defined_multi_normal_special_cov_df.groupby('causal_mutation_id')}\n",
    "\n",
    "num = len(df_dict_test_cov)\n",
    "\n",
    "for i in range(num):\n",
    "  temp_df = df_dict_test_cov[i]\n",
    "  plt.hist(temp_df[\"environmental_noise\"], bins=40)\n",
    "  plt.title(\"Environmental Noise for Causal Mutation \" + str(i+1) )\n",
    "  plt.show()\n",
    "  print(\"Mean of noise: \" + str(temp_df['environmental_noise'].mean()))\n",
    "  print(\"Standard deviation of noise: \" + str(temp_df['environmental_noise'].std()))"
   ]
  },
  {
   "cell_type": "code",
   "execution_count": null,
   "metadata": {},
   "outputs": [],
   "source": [
    "phenotypes_user_defined_multi_normal_special_cov_df_normalized = normalize(phenotypes_user_defined_multi_normal_special_cov, normalize_genetic_values=True)\n",
    "phenotypes_user_defined_multi_normal_special_cov_df_normalized"
   ]
  },
  {
   "cell_type": "code",
   "execution_count": null,
   "metadata": {},
   "outputs": [],
   "source": [
    "phenotypes_zero_noise = sim_env_noise(individuals) #simulates zero noise (assumes h2 is an array of 1s)\n",
    "phenotypes_zero_noise_df = phenotypes_zero_noise.phenotype_df\n",
    "phenotypes_zero_noise_df"
   ]
  },
  {
   "cell_type": "markdown",
   "metadata": {},
   "source": [
    "Now, we show the usage of the narrow-sense heritability feature to simulate noise for multiple causal mutations (for a dataframe where genetic values have not yet been normalized)."
   ]
  },
  {
   "cell_type": "code",
   "execution_count": null,
   "metadata": {},
   "outputs": [],
   "source": [
    "phenotype_multi_normal_h2 = sim_env_noise(individuals, h2=[0.5, 0.75]) #simulating environmental noise for 2 causal mutations without normalizing genetic values\n",
    "phenotype_multi_normal_h2_df = phenotype_multi_normal_h2.phenotype_df\n",
    "phenotype_multi_normal_h2_df"
   ]
  },
  {
   "cell_type": "code",
   "execution_count": null,
   "metadata": {},
   "outputs": [],
   "source": [
    "print(phenotype_multi_normal_h2.get_h2()) #printing the h2 used for the simulation"
   ]
  },
  {
   "cell_type": "code",
   "execution_count": null,
   "metadata": {},
   "outputs": [],
   "source": [
    "df_dict_test_pre_normal = {k: v.sort_values('individual_id') for k, v in phenotype_multi_normal_h2_df.groupby('causal_mutation_id')}\n",
    "\n",
    "num = len(df_dict_test_pre_normal)\n",
    "\n",
    "for i in range(num):\n",
    "  temp_df = df_dict_test_pre_normal[i]\n",
    "  plt.hist(temp_df[\"environmental_noise\"], bins=40)\n",
    "  plt.title(\"Environmental Noise for Causal Mutation \" + str(i+1) )\n",
    "  plt.show()\n",
    "  print(\"Mean of noise: \" + str(temp_df['environmental_noise'].mean()))\n",
    "  print(\"Standard deviation of noise: \" + str(temp_df['environmental_noise'].std()))"
   ]
  },
  {
   "cell_type": "code",
   "execution_count": null,
   "metadata": {},
   "outputs": [],
   "source": [
    "phenotype_multi_normal_h2_df_normalized = normalize(phenotype_multi_normal_h2, normalize_genetic_values=True)\n",
    "phenotype_multi_normal_h2_df_normalized"
   ]
  },
  {
   "cell_type": "code",
   "execution_count": null,
   "metadata": {},
   "outputs": [],
   "source": [
    "df_dict_test_pre_normal_final = {k: v.sort_values('individual_id') for k, v in phenotype_multi_normal_h2_df_normalized.groupby('causal_mutation_id')}\n",
    "\n",
    "num = len(df_dict_test_pre_normal_final)\n",
    "\n",
    "for i in range(num):\n",
    "  temp_df = df_dict_test_pre_normal_final[i]\n",
    "  print(\"Variance of the phenotypes for Causal Mutation \" + str(i+1) + \" is \"  + str(temp_df['phenotype'].var()))\n",
    "  print(\"Variance of the genetic values for Causal Mutation \" + str(i+1) + \" is \"  + str(temp_df['genetic_value'].var()))\n",
    "  print(\"Variance of the noise for Causal Mutation \" + str(i+1) + \" is \"  + str(temp_df['environmental_noise'].var()))"
   ]
  },
  {
   "cell_type": "markdown",
   "metadata": {},
   "source": [
    "Now, we show the usage of the narrow-sense heritability feature to simulate noise for multiple causal mutations (for a dataframe where genetic values have already been normalized)."
   ]
  },
  {
   "cell_type": "code",
   "execution_count": null,
   "metadata": {},
   "outputs": [],
   "source": [
    "phenotype_post_normalization = sim_env_noise(normalized_individual_multi_normal, h2=[0.25, 0.45]) #simulating noise after genetic values have been normalized\n",
    "phenotype_df_post_normalization = phenotype_post_normalization.phenotype_df\n",
    "phenotype_df_post_normalization"
   ]
  },
  {
   "cell_type": "code",
   "execution_count": null,
   "metadata": {},
   "outputs": [],
   "source": [
    "df_dict_test_post_normal = {k: v.sort_values('individual_id') for k, v in phenotype_df_post_normalization.groupby('causal_mutation_id')}\n",
    "\n",
    "num = len(df_dict_test_post_normal)\n",
    "\n",
    "for i in range(num):\n",
    "  temp_df = df_dict_test_post_normal[i]\n",
    "  plt.hist(temp_df[\"environmental_noise\"], bins=40)\n",
    "  plt.title(\"Environmental Noise for Causal Mutation \" + str(i+1) )\n",
    "  plt.show()\n",
    "  print(\"Mean of noise: \" + str(temp_df['environmental_noise'].mean()))\n",
    "  print(\"Standard deviation of noise: \" + str(temp_df['environmental_noise'].std()))"
   ]
  },
  {
   "cell_type": "code",
   "execution_count": null,
   "metadata": {},
   "outputs": [],
   "source": [
    "phenotype_post_normalization_final_df = normalize(phenotype_post_normalization) #normalizing the final dataframe with the phenotypes\n",
    "phenotype_post_normalization_final_df"
   ]
  },
  {
   "cell_type": "code",
   "execution_count": null,
   "metadata": {},
   "outputs": [],
   "source": [
    "df_dict_test_post_normal_final = {k: v.sort_values('individual_id') for k, v in phenotype_post_normalization_final_df.groupby('causal_mutation_id')}\n",
    "\n",
    "num = len(df_dict_test_post_normal_final)\n",
    "\n",
    "for i in range(num):\n",
    "  temp_df = df_dict_test_post_normal_final[i]\n",
    "  print(\"Variance of the phenotypes for Causal Mutation \" + str(i+1) + \" is \"  + str(temp_df['phenotype'].var()))\n",
    "  print(\"Variance of the genetic values for Causal Mutation \" + str(i+1) + \" is \"  + str(temp_df['genetic_value'].var()))\n",
    "  print(\"Variance of the noise for Causal Mutation \" + str(i+1) + \" is \"  + str(temp_df['environmental_noise'].var()))"
   ]
  },
  {
   "cell_type": "code",
   "execution_count": null,
   "metadata": {},
   "outputs": [],
   "source": []
  }
 ],
 "metadata": {
  "kernelspec": {
   "display_name": "weilab",
   "language": "python",
   "name": "python3"
  },
  "language_info": {
   "codemirror_mode": {
    "name": "ipython",
    "version": 3
   },
   "file_extension": ".py",
   "mimetype": "text/x-python",
   "name": "python",
   "nbconvert_exporter": "python",
   "pygments_lexer": "ipython3",
   "version": "3.10.14"
  }
 },
 "nbformat": 4,
 "nbformat_minor": 2
}
